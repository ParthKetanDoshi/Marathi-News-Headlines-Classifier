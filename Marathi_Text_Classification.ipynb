{
  "nbformat": 4,
  "nbformat_minor": 0,
  "metadata": {
    "colab": {
      "provenance": [],
      "collapsed_sections": [
        "l5Bwo75KEuGu",
        "EYwKHg0vE20v",
        "xFbl1A15FDDO",
        "bYWaVa5UAGUy",
        "64xai20MI_0k"
      ]
    },
    "kernelspec": {
      "name": "python3",
      "display_name": "Python 3"
    },
    "accelerator": "GPU"
  },
  "cells": [
    {
      "cell_type": "markdown",
      "metadata": {
        "id": "MYshR5Sio6K9"
      },
      "source": [
        "## Installing Libraries"
      ]
    },
    {
      "cell_type": "code",
      "metadata": {
        "id": "3YBwLImZo2lF",
        "outputId": "54775366-0fd2-4374-af94-a136e5a90f77",
        "colab": {
          "base_uri": "https://localhost:8080/",
          "height": 101
        }
      },
      "source": [
        "pip install sentencepiece"
      ],
      "execution_count": null,
      "outputs": [
        {
          "output_type": "stream",
          "text": [
            "Collecting sentencepiece\n",
            "\u001b[?25l  Downloading https://files.pythonhosted.org/packages/d4/a4/d0a884c4300004a78cca907a6ff9a5e9fe4f090f5d95ab341c53d28cbc58/sentencepiece-0.1.91-cp36-cp36m-manylinux1_x86_64.whl (1.1MB)\n",
            "\r\u001b[K     |▎                               | 10kB 27.2MB/s eta 0:00:01\r\u001b[K     |▋                               | 20kB 32.7MB/s eta 0:00:01\r\u001b[K     |█                               | 30kB 36.9MB/s eta 0:00:01\r\u001b[K     |█▏                              | 40kB 29.7MB/s eta 0:00:01\r\u001b[K     |█▌                              | 51kB 16.5MB/s eta 0:00:01\r\u001b[K     |█▉                              | 61kB 14.4MB/s eta 0:00:01\r\u001b[K     |██▏                             | 71kB 13.7MB/s eta 0:00:01\r\u001b[K     |██▍                             | 81kB 13.1MB/s eta 0:00:01\r\u001b[K     |██▊                             | 92kB 12.7MB/s eta 0:00:01\r\u001b[K     |███                             | 102kB 13.7MB/s eta 0:00:01\r\u001b[K     |███▍                            | 112kB 13.7MB/s eta 0:00:01\r\u001b[K     |███▋                            | 122kB 13.7MB/s eta 0:00:01\r\u001b[K     |████                            | 133kB 13.7MB/s eta 0:00:01\r\u001b[K     |████▎                           | 143kB 13.7MB/s eta 0:00:01\r\u001b[K     |████▋                           | 153kB 13.7MB/s eta 0:00:01\r\u001b[K     |████▉                           | 163kB 13.7MB/s eta 0:00:01\r\u001b[K     |█████▏                          | 174kB 13.7MB/s eta 0:00:01\r\u001b[K     |█████▌                          | 184kB 13.7MB/s eta 0:00:01\r\u001b[K     |█████▉                          | 194kB 13.7MB/s eta 0:00:01\r\u001b[K     |██████                          | 204kB 13.7MB/s eta 0:00:01\r\u001b[K     |██████▍                         | 215kB 13.7MB/s eta 0:00:01\r\u001b[K     |██████▊                         | 225kB 13.7MB/s eta 0:00:01\r\u001b[K     |███████                         | 235kB 13.7MB/s eta 0:00:01\r\u001b[K     |███████▎                        | 245kB 13.7MB/s eta 0:00:01\r\u001b[K     |███████▋                        | 256kB 13.7MB/s eta 0:00:01\r\u001b[K     |████████                        | 266kB 13.7MB/s eta 0:00:01\r\u001b[K     |████████▎                       | 276kB 13.7MB/s eta 0:00:01\r\u001b[K     |████████▌                       | 286kB 13.7MB/s eta 0:00:01\r\u001b[K     |████████▉                       | 296kB 13.7MB/s eta 0:00:01\r\u001b[K     |█████████▏                      | 307kB 13.7MB/s eta 0:00:01\r\u001b[K     |█████████▌                      | 317kB 13.7MB/s eta 0:00:01\r\u001b[K     |█████████▊                      | 327kB 13.7MB/s eta 0:00:01\r\u001b[K     |██████████                      | 337kB 13.7MB/s eta 0:00:01\r\u001b[K     |██████████▍                     | 348kB 13.7MB/s eta 0:00:01\r\u001b[K     |██████████▊                     | 358kB 13.7MB/s eta 0:00:01\r\u001b[K     |███████████                     | 368kB 13.7MB/s eta 0:00:01\r\u001b[K     |███████████▎                    | 378kB 13.7MB/s eta 0:00:01\r\u001b[K     |███████████▋                    | 389kB 13.7MB/s eta 0:00:01\r\u001b[K     |████████████                    | 399kB 13.7MB/s eta 0:00:01\r\u001b[K     |████████████▏                   | 409kB 13.7MB/s eta 0:00:01\r\u001b[K     |████████████▌                   | 419kB 13.7MB/s eta 0:00:01\r\u001b[K     |████████████▉                   | 430kB 13.7MB/s eta 0:00:01\r\u001b[K     |█████████████▏                  | 440kB 13.7MB/s eta 0:00:01\r\u001b[K     |█████████████▍                  | 450kB 13.7MB/s eta 0:00:01\r\u001b[K     |█████████████▊                  | 460kB 13.7MB/s eta 0:00:01\r\u001b[K     |██████████████                  | 471kB 13.7MB/s eta 0:00:01\r\u001b[K     |██████████████▍                 | 481kB 13.7MB/s eta 0:00:01\r\u001b[K     |██████████████▋                 | 491kB 13.7MB/s eta 0:00:01\r\u001b[K     |███████████████                 | 501kB 13.7MB/s eta 0:00:01\r\u001b[K     |███████████████▎                | 512kB 13.7MB/s eta 0:00:01\r\u001b[K     |███████████████▋                | 522kB 13.7MB/s eta 0:00:01\r\u001b[K     |███████████████▉                | 532kB 13.7MB/s eta 0:00:01\r\u001b[K     |████████████████▏               | 542kB 13.7MB/s eta 0:00:01\r\u001b[K     |████████████████▌               | 552kB 13.7MB/s eta 0:00:01\r\u001b[K     |████████████████▉               | 563kB 13.7MB/s eta 0:00:01\r\u001b[K     |█████████████████               | 573kB 13.7MB/s eta 0:00:01\r\u001b[K     |█████████████████▍              | 583kB 13.7MB/s eta 0:00:01\r\u001b[K     |█████████████████▊              | 593kB 13.7MB/s eta 0:00:01\r\u001b[K     |██████████████████              | 604kB 13.7MB/s eta 0:00:01\r\u001b[K     |██████████████████▎             | 614kB 13.7MB/s eta 0:00:01\r\u001b[K     |██████████████████▋             | 624kB 13.7MB/s eta 0:00:01\r\u001b[K     |███████████████████             | 634kB 13.7MB/s eta 0:00:01\r\u001b[K     |███████████████████▎            | 645kB 13.7MB/s eta 0:00:01\r\u001b[K     |███████████████████▌            | 655kB 13.7MB/s eta 0:00:01\r\u001b[K     |███████████████████▉            | 665kB 13.7MB/s eta 0:00:01\r\u001b[K     |████████████████████▏           | 675kB 13.7MB/s eta 0:00:01\r\u001b[K     |████████████████████▌           | 686kB 13.7MB/s eta 0:00:01\r\u001b[K     |████████████████████▊           | 696kB 13.7MB/s eta 0:00:01\r\u001b[K     |█████████████████████           | 706kB 13.7MB/s eta 0:00:01\r\u001b[K     |█████████████████████▍          | 716kB 13.7MB/s eta 0:00:01\r\u001b[K     |█████████████████████▋          | 727kB 13.7MB/s eta 0:00:01\r\u001b[K     |██████████████████████          | 737kB 13.7MB/s eta 0:00:01\r\u001b[K     |██████████████████████▎         | 747kB 13.7MB/s eta 0:00:01\r\u001b[K     |██████████████████████▋         | 757kB 13.7MB/s eta 0:00:01\r\u001b[K     |██████████████████████▉         | 768kB 13.7MB/s eta 0:00:01\r\u001b[K     |███████████████████████▏        | 778kB 13.7MB/s eta 0:00:01\r\u001b[K     |███████████████████████▌        | 788kB 13.7MB/s eta 0:00:01\r\u001b[K     |███████████████████████▉        | 798kB 13.7MB/s eta 0:00:01\r\u001b[K     |████████████████████████        | 808kB 13.7MB/s eta 0:00:01\r\u001b[K     |████████████████████████▍       | 819kB 13.7MB/s eta 0:00:01\r\u001b[K     |████████████████████████▊       | 829kB 13.7MB/s eta 0:00:01\r\u001b[K     |█████████████████████████       | 839kB 13.7MB/s eta 0:00:01\r\u001b[K     |█████████████████████████▎      | 849kB 13.7MB/s eta 0:00:01\r\u001b[K     |█████████████████████████▋      | 860kB 13.7MB/s eta 0:00:01\r\u001b[K     |██████████████████████████      | 870kB 13.7MB/s eta 0:00:01\r\u001b[K     |██████████████████████████▎     | 880kB 13.7MB/s eta 0:00:01\r\u001b[K     |██████████████████████████▌     | 890kB 13.7MB/s eta 0:00:01\r\u001b[K     |██████████████████████████▉     | 901kB 13.7MB/s eta 0:00:01\r\u001b[K     |███████████████████████████▏    | 911kB 13.7MB/s eta 0:00:01\r\u001b[K     |███████████████████████████▌    | 921kB 13.7MB/s eta 0:00:01\r\u001b[K     |███████████████████████████▊    | 931kB 13.7MB/s eta 0:00:01\r\u001b[K     |████████████████████████████    | 942kB 13.7MB/s eta 0:00:01\r\u001b[K     |████████████████████████████▍   | 952kB 13.7MB/s eta 0:00:01\r\u001b[K     |████████████████████████████▊   | 962kB 13.7MB/s eta 0:00:01\r\u001b[K     |█████████████████████████████   | 972kB 13.7MB/s eta 0:00:01\r\u001b[K     |█████████████████████████████▎  | 983kB 13.7MB/s eta 0:00:01\r\u001b[K     |█████████████████████████████▋  | 993kB 13.7MB/s eta 0:00:01\r\u001b[K     |██████████████████████████████  | 1.0MB 13.7MB/s eta 0:00:01\r\u001b[K     |██████████████████████████████▏ | 1.0MB 13.7MB/s eta 0:00:01\r\u001b[K     |██████████████████████████████▌ | 1.0MB 13.7MB/s eta 0:00:01\r\u001b[K     |██████████████████████████████▉ | 1.0MB 13.7MB/s eta 0:00:01\r\u001b[K     |███████████████████████████████▏| 1.0MB 13.7MB/s eta 0:00:01\r\u001b[K     |███████████████████████████████▍| 1.1MB 13.7MB/s eta 0:00:01\r\u001b[K     |███████████████████████████████▊| 1.1MB 13.7MB/s eta 0:00:01\r\u001b[K     |████████████████████████████████| 1.1MB 13.7MB/s \n",
            "\u001b[?25hInstalling collected packages: sentencepiece\n",
            "Successfully installed sentencepiece-0.1.91\n"
          ],
          "name": "stdout"
        }
      ]
    },
    {
      "cell_type": "code",
      "metadata": {
        "id": "G5Isz7_oo-Rr",
        "outputId": "58763047-ea9e-4770-d8e7-8604e37cf6c2",
        "colab": {
          "base_uri": "https://localhost:8080/",
          "height": 860
        }
      },
      "source": [
        "!pip3 install fastai=='1.0.60'"
      ],
      "execution_count": null,
      "outputs": [
        {
          "output_type": "stream",
          "text": [
            "Collecting fastai==1.0.60\n",
            "\u001b[?25l  Downloading https://files.pythonhosted.org/packages/f5/e4/a7025bf28f303dbda0f862c09a7f957476fa92c9271643b4061a81bb595f/fastai-1.0.60-py3-none-any.whl (237kB)\n",
            "\r\u001b[K     |█▍                              | 10kB 6.4MB/s eta 0:00:01\r\u001b[K     |██▊                             | 20kB 7.2MB/s eta 0:00:01\r\u001b[K     |████▏                           | 30kB 10.1MB/s eta 0:00:01\r\u001b[K     |█████▌                          | 40kB 9.1MB/s eta 0:00:01\r\u001b[K     |███████                         | 51kB 8.8MB/s eta 0:00:01\r\u001b[K     |████████▎                       | 61kB 8.3MB/s eta 0:00:01\r\u001b[K     |█████████▋                      | 71kB 8.7MB/s eta 0:00:01\r\u001b[K     |███████████                     | 81kB 8.9MB/s eta 0:00:01\r\u001b[K     |████████████▍                   | 92kB 8.8MB/s eta 0:00:01\r\u001b[K     |█████████████▉                  | 102kB 9.3MB/s eta 0:00:01\r\u001b[K     |███████████████▏                | 112kB 9.3MB/s eta 0:00:01\r\u001b[K     |████████████████▋               | 122kB 9.3MB/s eta 0:00:01\r\u001b[K     |██████████████████              | 133kB 9.3MB/s eta 0:00:01\r\u001b[K     |███████████████████▎            | 143kB 9.3MB/s eta 0:00:01\r\u001b[K     |████████████████████▊           | 153kB 9.3MB/s eta 0:00:01\r\u001b[K     |██████████████████████          | 163kB 9.3MB/s eta 0:00:01\r\u001b[K     |███████████████████████▌        | 174kB 9.3MB/s eta 0:00:01\r\u001b[K     |████████████████████████▉       | 184kB 9.3MB/s eta 0:00:01\r\u001b[K     |██████████████████████████▎     | 194kB 9.3MB/s eta 0:00:01\r\u001b[K     |███████████████████████████▋    | 204kB 9.3MB/s eta 0:00:01\r\u001b[K     |█████████████████████████████   | 215kB 9.3MB/s eta 0:00:01\r\u001b[K     |██████████████████████████████▍ | 225kB 9.3MB/s eta 0:00:01\r\u001b[K     |███████████████████████████████▊| 235kB 9.3MB/s eta 0:00:01\r\u001b[K     |████████████████████████████████| 245kB 9.3MB/s \n",
            "\u001b[?25hRequirement already satisfied: torchvision in /usr/local/lib/python3.6/dist-packages (from fastai==1.0.60) (0.6.0+cu101)\n",
            "Requirement already satisfied: bottleneck in /usr/local/lib/python3.6/dist-packages (from fastai==1.0.60) (1.3.2)\n",
            "Requirement already satisfied: matplotlib in /usr/local/lib/python3.6/dist-packages (from fastai==1.0.60) (3.2.1)\n",
            "Requirement already satisfied: requests in /usr/local/lib/python3.6/dist-packages (from fastai==1.0.60) (2.23.0)\n",
            "Requirement already satisfied: pyyaml in /usr/local/lib/python3.6/dist-packages (from fastai==1.0.60) (3.13)\n",
            "Requirement already satisfied: dataclasses; python_version < \"3.7\" in /usr/local/lib/python3.6/dist-packages (from fastai==1.0.60) (0.7)\n",
            "Requirement already satisfied: torch>=1.0.0 in /usr/local/lib/python3.6/dist-packages (from fastai==1.0.60) (1.5.0+cu101)\n",
            "Requirement already satisfied: Pillow in /usr/local/lib/python3.6/dist-packages (from fastai==1.0.60) (7.0.0)\n",
            "Requirement already satisfied: pandas in /usr/local/lib/python3.6/dist-packages (from fastai==1.0.60) (1.0.4)\n",
            "Requirement already satisfied: nvidia-ml-py3 in /usr/local/lib/python3.6/dist-packages (from fastai==1.0.60) (7.352.0)\n",
            "Requirement already satisfied: packaging in /usr/local/lib/python3.6/dist-packages (from fastai==1.0.60) (20.4)\n",
            "Requirement already satisfied: numexpr in /usr/local/lib/python3.6/dist-packages (from fastai==1.0.60) (2.7.1)\n",
            "Requirement already satisfied: scipy in /usr/local/lib/python3.6/dist-packages (from fastai==1.0.60) (1.4.1)\n",
            "Requirement already satisfied: spacy>=2.0.18 in /usr/local/lib/python3.6/dist-packages (from fastai==1.0.60) (2.2.4)\n",
            "Requirement already satisfied: beautifulsoup4 in /usr/local/lib/python3.6/dist-packages (from fastai==1.0.60) (4.6.3)\n",
            "Requirement already satisfied: numpy>=1.15 in /usr/local/lib/python3.6/dist-packages (from fastai==1.0.60) (1.18.5)\n",
            "Requirement already satisfied: fastprogress>=0.2.1 in /usr/local/lib/python3.6/dist-packages (from fastai==1.0.60) (0.2.3)\n",
            "Requirement already satisfied: pyparsing!=2.0.4,!=2.1.2,!=2.1.6,>=2.0.1 in /usr/local/lib/python3.6/dist-packages (from matplotlib->fastai==1.0.60) (2.4.7)\n",
            "Requirement already satisfied: kiwisolver>=1.0.1 in /usr/local/lib/python3.6/dist-packages (from matplotlib->fastai==1.0.60) (1.2.0)\n",
            "Requirement already satisfied: cycler>=0.10 in /usr/local/lib/python3.6/dist-packages (from matplotlib->fastai==1.0.60) (0.10.0)\n",
            "Requirement already satisfied: python-dateutil>=2.1 in /usr/local/lib/python3.6/dist-packages (from matplotlib->fastai==1.0.60) (2.8.1)\n",
            "Requirement already satisfied: certifi>=2017.4.17 in /usr/local/lib/python3.6/dist-packages (from requests->fastai==1.0.60) (2020.4.5.1)\n",
            "Requirement already satisfied: chardet<4,>=3.0.2 in /usr/local/lib/python3.6/dist-packages (from requests->fastai==1.0.60) (3.0.4)\n",
            "Requirement already satisfied: idna<3,>=2.5 in /usr/local/lib/python3.6/dist-packages (from requests->fastai==1.0.60) (2.9)\n",
            "Requirement already satisfied: urllib3!=1.25.0,!=1.25.1,<1.26,>=1.21.1 in /usr/local/lib/python3.6/dist-packages (from requests->fastai==1.0.60) (1.24.3)\n",
            "Requirement already satisfied: future in /usr/local/lib/python3.6/dist-packages (from torch>=1.0.0->fastai==1.0.60) (0.16.0)\n",
            "Requirement already satisfied: pytz>=2017.2 in /usr/local/lib/python3.6/dist-packages (from pandas->fastai==1.0.60) (2018.9)\n",
            "Requirement already satisfied: six in /usr/local/lib/python3.6/dist-packages (from packaging->fastai==1.0.60) (1.12.0)\n",
            "Requirement already satisfied: wasabi<1.1.0,>=0.4.0 in /usr/local/lib/python3.6/dist-packages (from spacy>=2.0.18->fastai==1.0.60) (0.6.0)\n",
            "Requirement already satisfied: setuptools in /usr/local/lib/python3.6/dist-packages (from spacy>=2.0.18->fastai==1.0.60) (47.1.1)\n",
            "Requirement already satisfied: plac<1.2.0,>=0.9.6 in /usr/local/lib/python3.6/dist-packages (from spacy>=2.0.18->fastai==1.0.60) (1.1.3)\n",
            "Requirement already satisfied: thinc==7.4.0 in /usr/local/lib/python3.6/dist-packages (from spacy>=2.0.18->fastai==1.0.60) (7.4.0)\n",
            "Requirement already satisfied: catalogue<1.1.0,>=0.0.7 in /usr/local/lib/python3.6/dist-packages (from spacy>=2.0.18->fastai==1.0.60) (1.0.0)\n",
            "Requirement already satisfied: preshed<3.1.0,>=3.0.2 in /usr/local/lib/python3.6/dist-packages (from spacy>=2.0.18->fastai==1.0.60) (3.0.2)\n",
            "Requirement already satisfied: cymem<2.1.0,>=2.0.2 in /usr/local/lib/python3.6/dist-packages (from spacy>=2.0.18->fastai==1.0.60) (2.0.3)\n",
            "Requirement already satisfied: srsly<1.1.0,>=1.0.2 in /usr/local/lib/python3.6/dist-packages (from spacy>=2.0.18->fastai==1.0.60) (1.0.2)\n",
            "Requirement already satisfied: tqdm<5.0.0,>=4.38.0 in /usr/local/lib/python3.6/dist-packages (from spacy>=2.0.18->fastai==1.0.60) (4.41.1)\n",
            "Requirement already satisfied: murmurhash<1.1.0,>=0.28.0 in /usr/local/lib/python3.6/dist-packages (from spacy>=2.0.18->fastai==1.0.60) (1.0.2)\n",
            "Requirement already satisfied: blis<0.5.0,>=0.4.0 in /usr/local/lib/python3.6/dist-packages (from spacy>=2.0.18->fastai==1.0.60) (0.4.1)\n",
            "Requirement already satisfied: importlib-metadata>=0.20; python_version < \"3.8\" in /usr/local/lib/python3.6/dist-packages (from catalogue<1.1.0,>=0.0.7->spacy>=2.0.18->fastai==1.0.60) (1.6.0)\n",
            "Requirement already satisfied: zipp>=0.5 in /usr/local/lib/python3.6/dist-packages (from importlib-metadata>=0.20; python_version < \"3.8\"->catalogue<1.1.0,>=0.0.7->spacy>=2.0.18->fastai==1.0.60) (3.1.0)\n",
            "Installing collected packages: fastai\n",
            "  Found existing installation: fastai 1.0.61\n",
            "    Uninstalling fastai-1.0.61:\n",
            "      Successfully uninstalled fastai-1.0.61\n",
            "Successfully installed fastai-1.0.60\n"
          ],
          "name": "stdout"
        }
      ]
    },
    {
      "cell_type": "code",
      "metadata": {
        "id": "mVD9r4oUpDRf",
        "outputId": "1d720f1b-efdd-4b17-d331-82ad789d804b",
        "colab": {
          "base_uri": "https://localhost:8080/",
          "height": 185
        }
      },
      "source": [
        "!pip3 install torch=='1.1.0'"
      ],
      "execution_count": null,
      "outputs": [
        {
          "output_type": "stream",
          "text": [
            "Collecting torch==1.1.0\n",
            "\u001b[?25l  Downloading https://files.pythonhosted.org/packages/69/60/f685fb2cfb3088736bafbc9bdbb455327bdc8906b606da9c9a81bae1c81e/torch-1.1.0-cp36-cp36m-manylinux1_x86_64.whl (676.9MB)\n",
            "\u001b[K     |████████████████████████████████| 676.9MB 25kB/s \n",
            "\u001b[?25hRequirement already satisfied: numpy in /usr/local/lib/python3.6/dist-packages (from torch==1.1.0) (1.18.5)\n",
            "\u001b[31mERROR: torchvision 0.6.0+cu101 has requirement torch==1.5.0, but you'll have torch 1.1.0 which is incompatible.\u001b[0m\n",
            "Installing collected packages: torch\n",
            "  Found existing installation: torch 1.5.0+cu101\n",
            "    Uninstalling torch-1.5.0+cu101:\n",
            "      Successfully uninstalled torch-1.5.0+cu101\n",
            "Successfully installed torch-1.1.0\n"
          ],
          "name": "stdout"
        }
      ]
    },
    {
      "cell_type": "markdown",
      "metadata": {
        "id": "Bwu9Kvy6FQ4Q"
      },
      "source": [
        "# Importing Libraries"
      ]
    },
    {
      "cell_type": "code",
      "metadata": {
        "id": "WJKQu6NUDx5b"
      },
      "source": [
        "from fastai.text import *\n",
        "import numpy as np\n",
        "from sklearn.model_selection import train_test_split\n",
        "import pickle\n",
        "import sentencepiece as spm\n",
        "import re\n",
        "import pdb"
      ],
      "execution_count": null,
      "outputs": []
    },
    {
      "cell_type": "code",
      "metadata": {
        "id": "FXPRC5bHNwiU",
        "outputId": "48112928-3f15-4cb5-ec07-46d2a393af38",
        "colab": {
          "base_uri": "https://localhost:8080/",
          "height": 34
        }
      },
      "source": [
        "import fastai, torch\n",
        "fastai.__version__ , torch.__version__"
      ],
      "execution_count": null,
      "outputs": [
        {
          "output_type": "execute_result",
          "data": {
            "text/plain": [
              "('1.0.60', '1.1.0')"
            ]
          },
          "metadata": {
            "tags": []
          },
          "execution_count": 5
        }
      ]
    },
    {
      "cell_type": "markdown",
      "metadata": {
        "id": "l5Bwo75KEuGu"
      },
      "source": [
        "# Fetching Training and Validation Data from Google Drive"
      ]
    },
    {
      "cell_type": "code",
      "metadata": {
        "id": "cZIOChZUDWIT",
        "outputId": "372306ed-52ab-4b22-cab6-1dc38ad02804",
        "colab": {
          "base_uri": "https://localhost:8080/",
          "height": 127
        }
      },
      "source": [
        "from google.colab import drive\n",
        "drive.mount('/content/drive')"
      ],
      "execution_count": null,
      "outputs": [
        {
          "output_type": "stream",
          "text": [
            "Go to this URL in a browser: https://accounts.google.com/o/oauth2/auth?client_id=947318989803-6bn6qk8qdgf4n4g3pfee6491hc0brc4i.apps.googleusercontent.com&redirect_uri=urn%3aietf%3awg%3aoauth%3a2.0%3aoob&response_type=code&scope=email%20https%3a%2f%2fwww.googleapis.com%2fauth%2fdocs.test%20https%3a%2f%2fwww.googleapis.com%2fauth%2fdrive%20https%3a%2f%2fwww.googleapis.com%2fauth%2fdrive.photos.readonly%20https%3a%2f%2fwww.googleapis.com%2fauth%2fpeopleapi.readonly\n",
            "\n",
            "Enter your authorization code:\n",
            "··········\n",
            "Mounted at /content/drive\n"
          ],
          "name": "stdout"
        }
      ]
    },
    {
      "cell_type": "markdown",
      "metadata": {
        "id": "EYwKHg0vE20v"
      },
      "source": [
        "### Fetching Training Data"
      ]
    },
    {
      "cell_type": "code",
      "metadata": {
        "id": "b5xfRCliD0Dr",
        "outputId": "1dbe4fb6-0556-406a-bf26-bf4b904f6a71",
        "colab": {
          "base_uri": "https://localhost:8080/",
          "height": 204
        }
      },
      "source": [
        "path_train_dataset = '/content/drive/My Drive/marathi-news-dataset/train.csv'\n",
        "train_df = pd.read_csv(path_train_dataset)\n",
        "train_df.head()"
      ],
      "execution_count": null,
      "outputs": [
        {
          "output_type": "execute_result",
          "data": {
            "text/html": [
              "<div>\n",
              "<style scoped>\n",
              "    .dataframe tbody tr th:only-of-type {\n",
              "        vertical-align: middle;\n",
              "    }\n",
              "\n",
              "    .dataframe tbody tr th {\n",
              "        vertical-align: top;\n",
              "    }\n",
              "\n",
              "    .dataframe thead th {\n",
              "        text-align: right;\n",
              "    }\n",
              "</style>\n",
              "<table border=\"1\" class=\"dataframe\">\n",
              "  <thead>\n",
              "    <tr style=\"text-align: right;\">\n",
              "      <th></th>\n",
              "      <th>headline</th>\n",
              "      <th>label</th>\n",
              "    </tr>\n",
              "  </thead>\n",
              "  <tbody>\n",
              "    <tr>\n",
              "      <th>0</th>\n",
              "      <td>सचिन तेंडुलकरने बाळासाहेबांच्या आठवणींना दिला ...</td>\n",
              "      <td>state</td>\n",
              "    </tr>\n",
              "    <tr>\n",
              "      <th>1</th>\n",
              "      <td>बहुजन वंचित आघाडीची पहिली यादी जाहीर, प्रकाश आ...</td>\n",
              "      <td>state</td>\n",
              "    </tr>\n",
              "    <tr>\n",
              "      <th>2</th>\n",
              "      <td>गृहमंत्रिपद हे पार्ट टाइम नाही, राजीनामा द्या,...</td>\n",
              "      <td>state</td>\n",
              "    </tr>\n",
              "    <tr>\n",
              "      <th>3</th>\n",
              "      <td>पुण्यात आघाडीचा पोपट पुन्हा जिवंत !</td>\n",
              "      <td>state</td>\n",
              "    </tr>\n",
              "    <tr>\n",
              "      <th>4</th>\n",
              "      <td>शरद पवार यांनी मिलिंद नार्वेकर यांच्या कानात क...</td>\n",
              "      <td>state</td>\n",
              "    </tr>\n",
              "  </tbody>\n",
              "</table>\n",
              "</div>"
            ],
            "text/plain": [
              "                                            headline  label\n",
              "0  सचिन तेंडुलकरने बाळासाहेबांच्या आठवणींना दिला ...  state\n",
              "1  बहुजन वंचित आघाडीची पहिली यादी जाहीर, प्रकाश आ...  state\n",
              "2  गृहमंत्रिपद हे पार्ट टाइम नाही, राजीनामा द्या,...  state\n",
              "3                पुण्यात आघाडीचा पोपट पुन्हा जिवंत !  state\n",
              "4  शरद पवार यांनी मिलिंद नार्वेकर यांच्या कानात क...  state"
            ]
          },
          "metadata": {
            "tags": []
          },
          "execution_count": 4
        }
      ]
    },
    {
      "cell_type": "code",
      "metadata": {
        "id": "0ZlzQnTkFg-K",
        "outputId": "5c9d4246-e717-4a44-d183-f14f2fdbd6e4",
        "colab": {
          "base_uri": "https://localhost:8080/",
          "height": 89
        }
      },
      "source": [
        "print('In Training data:')\n",
        "for category in train_df['label'].unique():\n",
        "  print(category, (train_df['label'] == category).sum())"
      ],
      "execution_count": null,
      "outputs": [
        {
          "output_type": "stream",
          "text": [
            "In Training data:\n",
            "state 6035\n",
            "entertainment 2644\n",
            "sports 994\n"
          ],
          "name": "stdout"
        }
      ]
    },
    {
      "cell_type": "markdown",
      "metadata": {
        "id": "xFbl1A15FDDO"
      },
      "source": [
        "### Fetching Validation Data"
      ]
    },
    {
      "cell_type": "code",
      "metadata": {
        "id": "8jxvst0oEYcu",
        "outputId": "8818c465-93a3-4508-d0e1-d4eaa1382f3e",
        "colab": {
          "base_uri": "https://localhost:8080/",
          "height": 204
        }
      },
      "source": [
        "path_valid_dataset = '/content/drive/My Drive/marathi-news-dataset/valid.csv'\n",
        "valid_df = pd.read_csv(path_valid_dataset)\n",
        "valid_df.head()"
      ],
      "execution_count": null,
      "outputs": [
        {
          "output_type": "execute_result",
          "data": {
            "text/html": [
              "<div>\n",
              "<style scoped>\n",
              "    .dataframe tbody tr th:only-of-type {\n",
              "        vertical-align: middle;\n",
              "    }\n",
              "\n",
              "    .dataframe tbody tr th {\n",
              "        vertical-align: top;\n",
              "    }\n",
              "\n",
              "    .dataframe thead th {\n",
              "        text-align: right;\n",
              "    }\n",
              "</style>\n",
              "<table border=\"1\" class=\"dataframe\">\n",
              "  <thead>\n",
              "    <tr style=\"text-align: right;\">\n",
              "      <th></th>\n",
              "      <th>headline</th>\n",
              "      <th>label</th>\n",
              "    </tr>\n",
              "  </thead>\n",
              "  <tbody>\n",
              "    <tr>\n",
              "      <th>0</th>\n",
              "      <td>पहाटे 3:30 वाजता बीग बींनी गायल 'हे' रॅप साँग</td>\n",
              "      <td>entertainment</td>\n",
              "    </tr>\n",
              "    <tr>\n",
              "      <th>1</th>\n",
              "      <td>राष्ट्रपती आणि पंतप्रधानांनी वाहिली श्रीदेवींन...</td>\n",
              "      <td>entertainment</td>\n",
              "    </tr>\n",
              "    <tr>\n",
              "      <th>2</th>\n",
              "      <td>सायरा बानोंना जागेसाठी धमकावणाऱ्या बिल्डराविरो...</td>\n",
              "      <td>entertainment</td>\n",
              "    </tr>\n",
              "    <tr>\n",
              "      <th>3</th>\n",
              "      <td>मुंबईत पहिल्यांदाच पन्नाशी पार, राज्यात सरासरी...</td>\n",
              "      <td>state</td>\n",
              "    </tr>\n",
              "    <tr>\n",
              "      <th>4</th>\n",
              "      <td>अण्णांची मनधरणी करण्यासाठी गिरीश महाजन राळेगणस...</td>\n",
              "      <td>state</td>\n",
              "    </tr>\n",
              "  </tbody>\n",
              "</table>\n",
              "</div>"
            ],
            "text/plain": [
              "                                            headline          label\n",
              "0      पहाटे 3:30 वाजता बीग बींनी गायल 'हे' रॅप साँग  entertainment\n",
              "1  राष्ट्रपती आणि पंतप्रधानांनी वाहिली श्रीदेवींन...  entertainment\n",
              "2  सायरा बानोंना जागेसाठी धमकावणाऱ्या बिल्डराविरो...  entertainment\n",
              "3  मुंबईत पहिल्यांदाच पन्नाशी पार, राज्यात सरासरी...          state\n",
              "4  अण्णांची मनधरणी करण्यासाठी गिरीश महाजन राळेगणस...          state"
            ]
          },
          "metadata": {
            "tags": []
          },
          "execution_count": 5
        }
      ]
    },
    {
      "cell_type": "code",
      "metadata": {
        "id": "vCEUkE34FyAe",
        "outputId": "fd8fffdf-5783-4e41-af8f-ea5ccd5de381",
        "colab": {
          "base_uri": "https://localhost:8080/",
          "height": 89
        }
      },
      "source": [
        "print('In Validation data:')\n",
        "for category in valid_df['label'].unique():\n",
        "  print(category, (valid_df['label'] == category).sum())"
      ],
      "execution_count": null,
      "outputs": [
        {
          "output_type": "stream",
          "text": [
            "In Validation data:\n",
            "entertainment 679\n",
            "state 1512\n",
            "sports 228\n"
          ],
          "name": "stdout"
        }
      ]
    },
    {
      "cell_type": "markdown",
      "metadata": {
        "id": "bYWaVa5UAGUy"
      },
      "source": [
        "# Building Marathi Language Model"
      ]
    },
    {
      "cell_type": "code",
      "metadata": {
        "id": "s0RP5mQzDUhj"
      },
      "source": [
        "label_cols = list(range(1,train_df.shape[1]))"
      ],
      "execution_count": null,
      "outputs": []
    },
    {
      "cell_type": "code",
      "metadata": {
        "id": "2a1vdzdrAKiD"
      },
      "source": [
        "id_to_col = list(train_df.columns)"
      ],
      "execution_count": null,
      "outputs": []
    },
    {
      "cell_type": "code",
      "metadata": {
        "id": "ak--Tf1UDUO_"
      },
      "source": [
        "col_to_id = {}\n",
        "for i, col in enumerate(id_to_col):\n",
        "    col_to_id[col] = i"
      ],
      "execution_count": null,
      "outputs": []
    },
    {
      "cell_type": "code",
      "metadata": {
        "id": "PWdspmVyCaXq"
      },
      "source": [
        "class MarathiTokenizer(BaseTokenizer):\n",
        "    def __init__(self, lang:str):\n",
        "        self.lang = lang\n",
        "        self.sp = spm.SentencePieceProcessor()\n",
        "        self.sp.Load(str(\"/content/drive/My Drive/NLP Marathi/marathi_lm.model\"))\n",
        "        \n",
        "    def tokenizer(self, t:str) -> List[str]:\n",
        "        return self.sp.EncodeAsPieces(t)"
      ],
      "execution_count": null,
      "outputs": []
    },
    {
      "cell_type": "code",
      "metadata": {
        "id": "jyW-J7GOBpqx"
      },
      "source": [
        "sp = spm.SentencePieceProcessor()\n",
        "sp.Load(str(\"/content/drive/My Drive/NLP Marathi/marathi_lm.model\"))\n",
        "itos = [sp.IdToPiece(int(i)) for i in range(30000)]"
      ],
      "execution_count": null,
      "outputs": []
    },
    {
      "cell_type": "code",
      "metadata": {
        "id": "iuAsZM00B1MO",
        "outputId": "fbed2c28-44c0-4b21-c6f0-b1f7ab5acf87",
        "colab": {
          "base_uri": "https://localhost:8080/",
          "height": 35
        }
      },
      "source": [
        "itos[:10]"
      ],
      "execution_count": null,
      "outputs": [
        {
          "output_type": "execute_result",
          "data": {
            "text/plain": [
              "['<unk>', '<s>', '</s>', '.', '▁', ',', '▁आहे', '▁·', '▁या', '▁व']"
            ]
          },
          "metadata": {
            "tags": []
          },
          "execution_count": 16
        }
      ]
    },
    {
      "cell_type": "code",
      "metadata": {
        "id": "Iwi-rlrmB44V"
      },
      "source": [
        "marathi_vocab = Vocab(itos)"
      ],
      "execution_count": null,
      "outputs": []
    },
    {
      "cell_type": "code",
      "metadata": {
        "id": "o_N5T3xLB-jv"
      },
      "source": [
        "tokenizer = Tokenizer(tok_func=MarathiTokenizer, lang='mr')"
      ],
      "execution_count": null,
      "outputs": []
    },
    {
      "cell_type": "code",
      "metadata": {
        "id": "buHqkPZZCAzX",
        "outputId": "7e421fbb-cd01-4374-f149-f444216b1244",
        "colab": {
          "base_uri": "https://localhost:8080/",
          "height": 179
        }
      },
      "source": [
        "tokenizer.special_cases"
      ],
      "execution_count": null,
      "outputs": [
        {
          "output_type": "execute_result",
          "data": {
            "text/plain": [
              "['xxunk',\n",
              " 'xxpad',\n",
              " 'xxbos',\n",
              " 'xxeos',\n",
              " 'xxfld',\n",
              " 'xxmaj',\n",
              " 'xxup',\n",
              " 'xxrep',\n",
              " 'xxwrep']"
            ]
          },
          "metadata": {
            "tags": []
          },
          "execution_count": 19
        }
      ]
    },
    {
      "cell_type": "code",
      "metadata": {
        "id": "gpI_sSNdClFJ",
        "outputId": "fe79cebd-e590-4245-882b-11d6ebf9f2fe",
        "colab": {
          "base_uri": "https://localhost:8080/",
          "height": 17
        }
      },
      "source": [
        "data_lm = TextLMDataBunch.from_df(path=\"/content/drive/My Drive/NLP Marathi/\", train_df=train_df, valid_df=valid_df, text_cols=[0], label_cols=label_cols, tokenizer=tokenizer, vocab=marathi_vocab, bs=16)"
      ],
      "execution_count": null,
      "outputs": [
        {
          "output_type": "display_data",
          "data": {
            "text/html": [
              ""
            ],
            "text/plain": [
              "<IPython.core.display.HTML object>"
            ]
          },
          "metadata": {
            "tags": []
          }
        },
        {
          "output_type": "display_data",
          "data": {
            "text/html": [
              ""
            ],
            "text/plain": [
              "<IPython.core.display.HTML object>"
            ]
          },
          "metadata": {
            "tags": []
          }
        }
      ]
    },
    {
      "cell_type": "code",
      "metadata": {
        "id": "SXO4KQgRO5F5"
      },
      "source": [
        "data_lm.save()"
      ],
      "execution_count": null,
      "outputs": []
    },
    {
      "cell_type": "code",
      "metadata": {
        "id": "MI1X0mC4O_AU",
        "outputId": "ecd6b096-a07e-4175-d3d2-03b8bbc62b97",
        "colab": {
          "base_uri": "https://localhost:8080/",
          "height": 272
        }
      },
      "source": [
        "data_lm.show_batch()"
      ],
      "execution_count": null,
      "outputs": [
        {
          "output_type": "display_data",
          "data": {
            "text/html": [
              "<table border=\"1\" class=\"dataframe\">\n",
              "  <thead>\n",
              "    <tr style=\"text-align: right;\">\n",
              "      <th>idx</th>\n",
              "      <th>text</th>\n",
              "    </tr>\n",
              "  </thead>\n",
              "  <tbody>\n",
              "    <tr>\n",
              "      <td>0</td>\n",
              "      <td>x bo s ▁शरद ▁पवार ▁यांनी ▁मिलिंद ▁नार ्वे कर ▁यांच्या ▁कानात ▁काय ▁सांगितलं ▁असेल ? ▁x x bo s ▁ग्रेट ▁भेट मध्ये ▁अंजली ▁भागवत ▁- ▁भाग ▁3 ▁x x bo s ▁' तारक ▁मेहता . . ' चा ▁कलाकार ▁विशाल ▁ठ क्कर ▁11 ▁दिवस ांपासून ▁बे पत्ता ▁x x bo s ▁' द ंगल ' मुळे ▁ स्मा ॅल ▁स्क्रीन ▁थिएटर ्स ला ▁फायदा ▁x x bo s ▁चाह</td>\n",
              "    </tr>\n",
              "    <tr>\n",
              "      <td>1</td>\n",
              "      <td>▁पंजाब चा ▁दिल्लीवर ▁ दणदणीत ▁विजय ▁x x bo s ▁सलमान सोबत ▁कुठली ▁अभिनेत्री ▁करणार ▁' बी ग ▁बॉस ' चं ▁अँ कर ींग ? ▁x x bo s ▁' नो ▁ हेल्म ेट - नो ▁पेट्रोल ' ला ▁पुणेकर ांचा ▁विरोध , ▁पेट्रोल ▁पंप ▁संघटनेचा ही ▁बंद चा ▁इशारा ▁x x bo s ▁कोलकाता ▁ नाईट ▁रायडर्स कडून ▁राजस्थान ▁रॉयल्स चा ▁6 ▁गडी ▁राखून ▁पराभव ▁x x bo s</td>\n",
              "    </tr>\n",
              "    <tr>\n",
              "      <td>2</td>\n",
              "      <td>▁' मैदान - ए - जंग ' ▁! ▁x x bo s ▁' महाराष्ट्र ▁रज नी ' ▁चुकीच्या ▁ठिकाणी च ▁! , ▁आग ▁व िझ ली ▁आता ▁राजकारण ▁पेट लं ▁x x bo s ▁ &lt;unk&gt; ▁बाप्पा मोर या रे ▁: ▁अंबा नी ंच्या ▁घरच्या ▁गणपती ला ▁ लोट लं ▁बा ॅल ि वूड ▁x x bo s ▁' आ धार ▁कार्ड ' ची ▁नोंदणी ▁आता ▁गॅस ▁वि तर क</td>\n",
              "    </tr>\n",
              "    <tr>\n",
              "      <td>3</td>\n",
              "      <td>▁' फ िक्स ' ▁x x bo s ▁ऑपरेशन ▁' नगर ' ▁नंतर ▁हे ▁आहे ▁भाजप चं ▁पुढ चं ▁लक्ष्य ▁x x bo s ▁माझ्या विरोधात ▁कट ात ▁पक्ष ातील ▁विरोधक ▁सहभागी - खड से ▁x x bo s ▁आमदार ▁बच्च ू ▁कडू ▁यांना ▁अचल पूर ▁कोर्ट ाकडून ▁7 ▁महिन्यां ची ▁शिक्षा ▁x x bo s ▁राज्यात ▁डान्स ▁बार ▁पुन्हा ▁सुरू ▁होणार , ▁सुप्री म ▁कोर्ट ाने ▁दिला ▁मोठा ▁निर्णय</td>\n",
              "    </tr>\n",
              "    <tr>\n",
              "      <td>4</td>\n",
              "      <td>▁सहभाग ामुळे ▁अशी ▁बदल तील ▁समीकरण ं ▁x x bo s &lt;unk&gt; ▁v &lt;unk&gt; id e o ▁: गु हा गर मध्ये ▁समुद्र ातून ▁आलेली ▁महाकाय ▁मग र ▁येत ▁होती ▁वस्ती कडे ▁पण . . . ▁x x bo s ▁आमीर ▁खान ने ▁घेतली ▁अण्णां ची ▁भेट ▁x x bo s ▁राजू ▁शेट्टी ही ▁आता ▁देणार ▁पवार ांना ▁आव्हान , ▁' स ्वा भिमान ी ' चा ▁ठराव ▁मंजूर ▁x</td>\n",
              "    </tr>\n",
              "  </tbody>\n",
              "</table>"
            ],
            "text/plain": [
              "<IPython.core.display.HTML object>"
            ]
          },
          "metadata": {
            "tags": []
          }
        }
      ]
    },
    {
      "cell_type": "markdown",
      "metadata": {
        "id": "64xai20MI_0k"
      },
      "source": [
        "# Training Classifier Model"
      ]
    },
    {
      "cell_type": "code",
      "metadata": {
        "id": "AufUpV4YJECA"
      },
      "source": [
        "awd_lstm_config = awd_lstm_lm_config.copy()\n",
        "awd_lstm_config['n_hid'] = 1150\n",
        "learn = language_model_learner(data_lm, arch=AWD_LSTM, drop_mult=0.3, config=awd_lstm_config, pretrained=False)"
      ],
      "execution_count": null,
      "outputs": []
    },
    {
      "cell_type": "code",
      "metadata": {
        "id": "qJSJqlK-PKmj",
        "outputId": "7682a8e1-51c2-4c07-ea4d-380706da9873",
        "colab": {
          "base_uri": "https://localhost:8080/",
          "height": 1000
        }
      },
      "source": [
        "learn.load('/content/drive/My Drive/NLP Marathi/fourth_mr_lm', with_opt=True)"
      ],
      "execution_count": null,
      "outputs": [
        {
          "output_type": "execute_result",
          "data": {
            "text/plain": [
              "LanguageLearner(data=TextLMDataBunch;\n",
              "\n",
              "Train: LabelList (9673 items)\n",
              "x: LMTextList\n",
              "▁x x bo s ▁सचिन ▁तेंडुलकर ने ▁बाळासाहेब ांच्या ▁आठवणी ंना ▁दिला ▁उ जाळ ा,▁x x bo s ▁बहुजन ▁वंचित ▁आघाडी ची ▁पहिली ▁यादी ▁जाहीर , ▁प्रकाश ▁आंबेडकरांच्या ▁मतदारसंघ ावरुन ▁स स्पे ं न्स ▁कायम,▁x x bo s ▁गृह मंत्रिपद ▁हे ▁पार्ट ▁टाइम ▁नाही , ▁राजीनामा ▁द्या , ▁ तृप्त ी ▁देसाई ंची ▁मुख्यमंत्र्या ंवर ▁टीका,▁x x bo s ▁पुण्यात ▁आघाडी चा ▁पोपट ▁पुन्हा ▁जिवंत ▁!,▁x x bo s ▁शरद ▁पवार ▁यांनी ▁मिलिंद ▁नार ्वे कर ▁यांच्या ▁कानात ▁काय ▁सांगितलं ▁असेल ?\n",
              "y: LMLabelList\n",
              ",,,,\n",
              "Path: /content/drive/My Drive/NLP Marathi;\n",
              "\n",
              "Valid: LabelList (2419 items)\n",
              "x: LMTextList\n",
              "▁x x bo s ▁पहाटे ▁3 : 30 ▁वाजता ▁बी ग ▁बी ंनी ▁गाय ल ▁' हे ' ▁रॅप ▁स ाँग,▁x x bo s ▁राष्ट्रपती ▁आणि ▁पंतप्रधान ांनी ▁वाहिली ▁श्री देवी ंना ▁श्रद्धांजली,▁x x bo s ▁साय रा ▁बा नो ंना ▁जागे साठी ▁धमकाव णाऱ्या ▁बिल्डर ाविरोधात ▁गुन्हा ▁दाखल,▁x x bo s ▁मुंबईत ▁पहिल्यांदाच ▁पन्ना शी ▁पार , ▁राज्यात ▁सरासरी ▁55 ▁टक्के ▁मतदान,▁x x bo s ▁अण्णां ची ▁मन धरण ी ▁करण्यासाठी ▁गिरीश ▁महाजन ▁रा ळे गण सिद्धी त ▁!\n",
              "y: LMLabelList\n",
              ",,,,\n",
              "Path: /content/drive/My Drive/NLP Marathi;\n",
              "\n",
              "Test: None, model=SequentialRNN(\n",
              "  (0): AWD_LSTM(\n",
              "    (encoder): Embedding(30000, 400, padding_idx=1)\n",
              "    (encoder_dp): EmbeddingDropout(\n",
              "      (emb): Embedding(30000, 400, padding_idx=1)\n",
              "    )\n",
              "    (rnns): ModuleList(\n",
              "      (0): WeightDropout(\n",
              "        (module): LSTM(400, 1150, batch_first=True)\n",
              "      )\n",
              "      (1): WeightDropout(\n",
              "        (module): LSTM(1150, 1150, batch_first=True)\n",
              "      )\n",
              "      (2): WeightDropout(\n",
              "        (module): LSTM(1150, 400, batch_first=True)\n",
              "      )\n",
              "    )\n",
              "    (input_dp): RNNDropout()\n",
              "    (hidden_dps): ModuleList(\n",
              "      (0): RNNDropout()\n",
              "      (1): RNNDropout()\n",
              "      (2): RNNDropout()\n",
              "    )\n",
              "  )\n",
              "  (1): LinearDecoder(\n",
              "    (decoder): Linear(in_features=400, out_features=30000, bias=True)\n",
              "    (output_dp): RNNDropout()\n",
              "  )\n",
              "), opt_func=functools.partial(<class 'torch.optim.adam.Adam'>, betas=(0.9, 0.99)), loss_func=FlattenedLoss of CrossEntropyLoss(), metrics=[<function accuracy at 0x7f9b5dbb9ae8>], true_wd=True, bn_wd=True, wd=0.01, train_bn=True, path=PosixPath('/content/drive/My Drive/NLP Marathi'), model_dir='models', callback_fns=[functools.partial(<class 'fastai.basic_train.Recorder'>, add_time=True, silent=False)], callbacks=[RNNTrainer\n",
              "learn: LanguageLearner(data=TextLMDataBunch;\n",
              "\n",
              "Train: LabelList (9673 items)\n",
              "x: LMTextList\n",
              "▁x x bo s ▁सचिन ▁तेंडुलकर ने ▁बाळासाहेब ांच्या ▁आठवणी ंना ▁दिला ▁उ जाळ ा,▁x x bo s ▁बहुजन ▁वंचित ▁आघाडी ची ▁पहिली ▁यादी ▁जाहीर , ▁प्रकाश ▁आंबेडकरांच्या ▁मतदारसंघ ावरुन ▁स स्पे ं न्स ▁कायम,▁x x bo s ▁गृह मंत्रिपद ▁हे ▁पार्ट ▁टाइम ▁नाही , ▁राजीनामा ▁द्या , ▁ तृप्त ी ▁देसाई ंची ▁मुख्यमंत्र्या ंवर ▁टीका,▁x x bo s ▁पुण्यात ▁आघाडी चा ▁पोपट ▁पुन्हा ▁जिवंत ▁!,▁x x bo s ▁शरद ▁पवार ▁यांनी ▁मिलिंद ▁नार ्वे कर ▁यांच्या ▁कानात ▁काय ▁सांगितलं ▁असेल ?\n",
              "y: LMLabelList\n",
              ",,,,\n",
              "Path: /content/drive/My Drive/NLP Marathi;\n",
              "\n",
              "Valid: LabelList (2419 items)\n",
              "x: LMTextList\n",
              "▁x x bo s ▁पहाटे ▁3 : 30 ▁वाजता ▁बी ग ▁बी ंनी ▁गाय ल ▁' हे ' ▁रॅप ▁स ाँग,▁x x bo s ▁राष्ट्रपती ▁आणि ▁पंतप्रधान ांनी ▁वाहिली ▁श्री देवी ंना ▁श्रद्धांजली,▁x x bo s ▁साय रा ▁बा नो ंना ▁जागे साठी ▁धमकाव णाऱ्या ▁बिल्डर ाविरोधात ▁गुन्हा ▁दाखल,▁x x bo s ▁मुंबईत ▁पहिल्यांदाच ▁पन्ना शी ▁पार , ▁राज्यात ▁सरासरी ▁55 ▁टक्के ▁मतदान,▁x x bo s ▁अण्णां ची ▁मन धरण ी ▁करण्यासाठी ▁गिरीश ▁महाजन ▁रा ळे गण सिद्धी त ▁!\n",
              "y: LMLabelList\n",
              ",,,,\n",
              "Path: /content/drive/My Drive/NLP Marathi;\n",
              "\n",
              "Test: None, model=SequentialRNN(\n",
              "  (0): AWD_LSTM(\n",
              "    (encoder): Embedding(30000, 400, padding_idx=1)\n",
              "    (encoder_dp): EmbeddingDropout(\n",
              "      (emb): Embedding(30000, 400, padding_idx=1)\n",
              "    )\n",
              "    (rnns): ModuleList(\n",
              "      (0): WeightDropout(\n",
              "        (module): LSTM(400, 1150, batch_first=True)\n",
              "      )\n",
              "      (1): WeightDropout(\n",
              "        (module): LSTM(1150, 1150, batch_first=True)\n",
              "      )\n",
              "      (2): WeightDropout(\n",
              "        (module): LSTM(1150, 400, batch_first=True)\n",
              "      )\n",
              "    )\n",
              "    (input_dp): RNNDropout()\n",
              "    (hidden_dps): ModuleList(\n",
              "      (0): RNNDropout()\n",
              "      (1): RNNDropout()\n",
              "      (2): RNNDropout()\n",
              "    )\n",
              "  )\n",
              "  (1): LinearDecoder(\n",
              "    (decoder): Linear(in_features=400, out_features=30000, bias=True)\n",
              "    (output_dp): RNNDropout()\n",
              "  )\n",
              "), opt_func=functools.partial(<class 'torch.optim.adam.Adam'>, betas=(0.9, 0.99)), loss_func=FlattenedLoss of CrossEntropyLoss(), metrics=[<function accuracy at 0x7f9b5dbb9ae8>], true_wd=True, bn_wd=True, wd=0.01, train_bn=True, path=PosixPath('/content/drive/My Drive/NLP Marathi'), model_dir='models', callback_fns=[functools.partial(<class 'fastai.basic_train.Recorder'>, add_time=True, silent=False)], callbacks=[...], layer_groups=[Sequential(\n",
              "  (0): WeightDropout(\n",
              "    (module): LSTM(400, 1150, batch_first=True)\n",
              "  )\n",
              "  (1): RNNDropout()\n",
              "), Sequential(\n",
              "  (0): WeightDropout(\n",
              "    (module): LSTM(1150, 1150, batch_first=True)\n",
              "  )\n",
              "  (1): RNNDropout()\n",
              "), Sequential(\n",
              "  (0): WeightDropout(\n",
              "    (module): LSTM(1150, 400, batch_first=True)\n",
              "  )\n",
              "  (1): RNNDropout()\n",
              "), Sequential(\n",
              "  (0): Embedding(30000, 400, padding_idx=1)\n",
              "  (1): EmbeddingDropout(\n",
              "    (emb): Embedding(30000, 400, padding_idx=1)\n",
              "  )\n",
              "  (2): LinearDecoder(\n",
              "    (decoder): Linear(in_features=400, out_features=30000, bias=True)\n",
              "    (output_dp): RNNDropout()\n",
              "  )\n",
              ")], add_time=True, silent=False)\n",
              "alpha: 2.0\n",
              "beta: 1.0], layer_groups=[Sequential(\n",
              "  (0): WeightDropout(\n",
              "    (module): LSTM(400, 1150, batch_first=True)\n",
              "  )\n",
              "  (1): RNNDropout()\n",
              "), Sequential(\n",
              "  (0): WeightDropout(\n",
              "    (module): LSTM(1150, 1150, batch_first=True)\n",
              "  )\n",
              "  (1): RNNDropout()\n",
              "), Sequential(\n",
              "  (0): WeightDropout(\n",
              "    (module): LSTM(1150, 400, batch_first=True)\n",
              "  )\n",
              "  (1): RNNDropout()\n",
              "), Sequential(\n",
              "  (0): Embedding(30000, 400, padding_idx=1)\n",
              "  (1): EmbeddingDropout(\n",
              "    (emb): Embedding(30000, 400, padding_idx=1)\n",
              "  )\n",
              "  (2): LinearDecoder(\n",
              "    (decoder): Linear(in_features=400, out_features=30000, bias=True)\n",
              "    (output_dp): RNNDropout()\n",
              "  )\n",
              ")], add_time=True, silent=False)"
            ]
          },
          "metadata": {
            "tags": []
          },
          "execution_count": 24
        }
      ]
    },
    {
      "cell_type": "code",
      "metadata": {
        "id": "jxd8VFhzPjZO",
        "outputId": "f64369c9-58eb-4d57-aba7-ca6ba72f1a36",
        "colab": {
          "base_uri": "https://localhost:8080/",
          "height": 114
        }
      },
      "source": [
        "learn.lr_find()"
      ],
      "execution_count": null,
      "outputs": [
        {
          "output_type": "display_data",
          "data": {
            "text/html": [
              "\n",
              "    <div>\n",
              "        <style>\n",
              "            /* Turns off some styling */\n",
              "            progress {\n",
              "                /* gets rid of default border in Firefox and Opera. */\n",
              "                border: none;\n",
              "                /* Needs to be in here for Safari polyfill so background images work as expected. */\n",
              "                background-size: auto;\n",
              "            }\n",
              "            .progress-bar-interrupted, .progress-bar-interrupted::-webkit-progress-bar {\n",
              "                background: #F44336;\n",
              "            }\n",
              "        </style>\n",
              "      <progress value='0' class='' max='1' style='width:300px; height:20px; vertical-align: middle;'></progress>\n",
              "      0.00% [0/1 00:00<00:00]\n",
              "    </div>\n",
              "    \n",
              "<table border=\"1\" class=\"dataframe\">\n",
              "  <thead>\n",
              "    <tr style=\"text-align: left;\">\n",
              "      <th>epoch</th>\n",
              "      <th>train_loss</th>\n",
              "      <th>valid_loss</th>\n",
              "      <th>accuracy</th>\n",
              "      <th>time</th>\n",
              "    </tr>\n",
              "  </thead>\n",
              "  <tbody>\n",
              "  </tbody>\n",
              "</table><p>\n",
              "\n",
              "    <div>\n",
              "        <style>\n",
              "            /* Turns off some styling */\n",
              "            progress {\n",
              "                /* gets rid of default border in Firefox and Opera. */\n",
              "                border: none;\n",
              "                /* Needs to be in here for Safari polyfill so background images work as expected. */\n",
              "                background-size: auto;\n",
              "            }\n",
              "            .progress-bar-interrupted, .progress-bar-interrupted::-webkit-progress-bar {\n",
              "                background: #F44336;\n",
              "            }\n",
              "        </style>\n",
              "      <progress value='95' class='' max='154' style='width:300px; height:20px; vertical-align: middle;'></progress>\n",
              "      61.69% [95/154 00:08<00:05 19.7431]\n",
              "    </div>\n",
              "    "
            ],
            "text/plain": [
              "<IPython.core.display.HTML object>"
            ]
          },
          "metadata": {
            "tags": []
          }
        },
        {
          "output_type": "stream",
          "text": [
            "LR Finder is complete, type {learner_name}.recorder.plot() to see the graph.\n"
          ],
          "name": "stdout"
        }
      ]
    },
    {
      "cell_type": "code",
      "metadata": {
        "id": "HvFkqV05WJOC",
        "outputId": "fac3f5e8-a20d-487e-91cb-7a760b4dad78",
        "colab": {
          "base_uri": "https://localhost:8080/",
          "height": 279
        }
      },
      "source": [
        "learn.recorder.plot()"
      ],
      "execution_count": null,
      "outputs": [
        {
          "output_type": "display_data",
          "data": {
            "image/png": "[encoded data removed]",
            "text/plain": [
              "<Figure size 432x288 with 1 Axes>"
            ]
          },
          "metadata": {
            "tags": [],
            "needs_background": "light"
          }
        }
      ]
    },
    {
      "cell_type": "code",
      "metadata": {
        "id": "uvJNDZ_BhFyz"
      },
      "source": [
        "learn.freeze()"
      ],
      "execution_count": null,
      "outputs": []
    },
    {
      "cell_type": "code",
      "metadata": {
        "id": "Pom6CmSIhTzQ",
        "outputId": "eb239d1b-5e57-4a39-a3a8-9fb12bb6c351",
        "colab": {
          "base_uri": "https://localhost:8080/",
          "height": 80
        }
      },
      "source": [
        "learn.fit_one_cycle(1, 1e-2)"
      ],
      "execution_count": null,
      "outputs": [
        {
          "output_type": "display_data",
          "data": {
            "text/html": [
              "<table border=\"1\" class=\"dataframe\">\n",
              "  <thead>\n",
              "    <tr style=\"text-align: left;\">\n",
              "      <th>epoch</th>\n",
              "      <th>train_loss</th>\n",
              "      <th>valid_loss</th>\n",
              "      <th>accuracy</th>\n",
              "      <th>time</th>\n",
              "    </tr>\n",
              "  </thead>\n",
              "  <tbody>\n",
              "    <tr>\n",
              "      <td>0</td>\n",
              "      <td>4.843278</td>\n",
              "      <td>4.582155</td>\n",
              "      <td>0.347276</td>\n",
              "      <td>00:13</td>\n",
              "    </tr>\n",
              "  </tbody>\n",
              "</table>"
            ],
            "text/plain": [
              "<IPython.core.display.HTML object>"
            ]
          },
          "metadata": {
            "tags": []
          }
        }
      ]
    },
    {
      "cell_type": "code",
      "metadata": {
        "id": "27MbU_zDjAM_"
      },
      "source": [
        "learn.unfreeze()"
      ],
      "execution_count": null,
      "outputs": []
    },
    {
      "cell_type": "code",
      "metadata": {
        "id": "hFR4oP5ejHVI",
        "outputId": "784df491-1f8f-4129-a27a-b620198163b5",
        "colab": {
          "base_uri": "https://localhost:8080/",
          "height": 204
        }
      },
      "source": [
        "learn.fit_one_cycle(5, 1e-3)"
      ],
      "execution_count": null,
      "outputs": [
        {
          "output_type": "display_data",
          "data": {
            "text/html": [
              "<table border=\"1\" class=\"dataframe\">\n",
              "  <thead>\n",
              "    <tr style=\"text-align: left;\">\n",
              "      <th>epoch</th>\n",
              "      <th>train_loss</th>\n",
              "      <th>valid_loss</th>\n",
              "      <th>accuracy</th>\n",
              "      <th>time</th>\n",
              "    </tr>\n",
              "  </thead>\n",
              "  <tbody>\n",
              "    <tr>\n",
              "      <td>0</td>\n",
              "      <td>4.203562</td>\n",
              "      <td>4.363638</td>\n",
              "      <td>0.368979</td>\n",
              "      <td>00:14</td>\n",
              "    </tr>\n",
              "    <tr>\n",
              "      <td>1</td>\n",
              "      <td>3.938712</td>\n",
              "      <td>4.175129</td>\n",
              "      <td>0.390728</td>\n",
              "      <td>00:14</td>\n",
              "    </tr>\n",
              "    <tr>\n",
              "      <td>2</td>\n",
              "      <td>3.613247</td>\n",
              "      <td>4.117294</td>\n",
              "      <td>0.399954</td>\n",
              "      <td>00:14</td>\n",
              "    </tr>\n",
              "    <tr>\n",
              "      <td>3</td>\n",
              "      <td>3.314277</td>\n",
              "      <td>4.116832</td>\n",
              "      <td>0.402701</td>\n",
              "      <td>00:14</td>\n",
              "    </tr>\n",
              "    <tr>\n",
              "      <td>4</td>\n",
              "      <td>3.155169</td>\n",
              "      <td>4.136128</td>\n",
              "      <td>0.402610</td>\n",
              "      <td>00:14</td>\n",
              "    </tr>\n",
              "  </tbody>\n",
              "</table>"
            ],
            "text/plain": [
              "<IPython.core.display.HTML object>"
            ]
          },
          "metadata": {
            "tags": []
          }
        }
      ]
    },
    {
      "cell_type": "code",
      "metadata": {
        "id": "iMoZZ1zsx-45",
        "outputId": "fefbe030-01ec-473d-b167-12c93bf66a1e",
        "colab": {
          "base_uri": "https://localhost:8080/",
          "height": 35
        }
      },
      "source": [
        "learn.predict('सीमा भागातील मराठी',n_words=10)"
      ],
      "execution_count": null,
      "outputs": [
        {
          "output_type": "execute_result",
          "data": {
            "text/plain": [
              "'सीमा भागातील मराठी ▁शिक ाव णार ▁भाजप साठी ▁तुम्ही ही ▁अब स ▁दै'"
            ]
          },
          "metadata": {
            "tags": []
          },
          "execution_count": 31
        }
      ]
    },
    {
      "cell_type": "code",
      "metadata": {
        "id": "bZA6Hwnm_Nd_"
      },
      "source": [
        "learn.save_encoder('fine_tuned_enc')"
      ],
      "execution_count": null,
      "outputs": []
    },
    {
      "cell_type": "code",
      "metadata": {
        "id": "yCz5VXaz_XXh",
        "outputId": "3868b943-d849-4029-d6de-ff34337b56d8",
        "colab": {
          "base_uri": "https://localhost:8080/",
          "height": 17
        }
      },
      "source": [
        "data_clas = TextClasDataBunch.from_df(path=\"/content/drive/My Drive/NLP Marathi/\", train_df=train_df, valid_df=valid_df, tokenizer=tokenizer, vocab=marathi_vocab, text_cols=[0], label_cols=label_cols, bs=16)"
      ],
      "execution_count": null,
      "outputs": [
        {
          "output_type": "display_data",
          "data": {
            "text/html": [
              ""
            ],
            "text/plain": [
              "<IPython.core.display.HTML object>"
            ]
          },
          "metadata": {
            "tags": []
          }
        },
        {
          "output_type": "display_data",
          "data": {
            "text/html": [
              ""
            ],
            "text/plain": [
              "<IPython.core.display.HTML object>"
            ]
          },
          "metadata": {
            "tags": []
          }
        }
      ]
    },
    {
      "cell_type": "code",
      "metadata": {
        "id": "EZI0Sh_e_lvY",
        "outputId": "1185f425-4d1a-4bf3-83dd-3692f59261fe",
        "colab": {
          "base_uri": "https://localhost:8080/",
          "height": 204
        }
      },
      "source": [
        "data_clas.show_batch()"
      ],
      "execution_count": null,
      "outputs": [
        {
          "output_type": "display_data",
          "data": {
            "text/html": [
              "<table border=\"1\" class=\"dataframe\">\n",
              "  <thead>\n",
              "    <tr style=\"text-align: right;\">\n",
              "      <th>text</th>\n",
              "      <th>target</th>\n",
              "    </tr>\n",
              "  </thead>\n",
              "  <tbody>\n",
              "    <tr>\n",
              "      <td>▁x x bo s &lt;unk&gt; ▁l ive ▁cricket &lt;unk&gt; &lt;unk&gt; co re , &lt;unk&gt; ▁v s &lt;unk&gt; ▁2 nd ▁test , ▁4 th ▁ &lt;unk&gt; day - ▁ल ंच नंतर ▁ऑस्ट्रेलिया ला ▁दोन ▁धक्के , ▁शमी ने च ▁घेतल्या ▁दोन्ही ▁विकेट , ▁पेन - ▁फिंच ▁बाद</td>\n",
              "      <td>sports</td>\n",
              "    </tr>\n",
              "    <tr>\n",
              "      <td>▁x x bo s &lt;unk&gt; ▁l ive ▁cricket &lt;unk&gt; &lt;unk&gt; co re , &lt;unk&gt; ▁v s &lt;unk&gt; ▁2 nd ▁test , ▁4 th ▁ &lt;unk&gt; day - ▁ऑस्ट्रेलिया ▁२४ ३ ▁वर ▁ऑल - ▁ आऊट , ▁भारत ासमोर ▁२८ ६ ▁धावा ंचं ▁लक्ष्य</td>\n",
              "      <td>sports</td>\n",
              "    </tr>\n",
              "    <tr>\n",
              "      <td>▁x x bo s &lt;unk&gt; ▁b hi wan di , &lt;unk&gt; ve l , ▁ma le ga on &lt;unk&gt; ect ion ▁re s ul ts ▁2017 &lt;unk&gt; ▁l ive ▁: ▁पनवेल मध्ये ▁भाजप ▁तर ▁भिवंडी - माल ेगाव मध्ये ▁काँग्रेस ▁!</td>\n",
              "      <td>state</td>\n",
              "    </tr>\n",
              "    <tr>\n",
              "      <td>▁x x bo s &lt;unk&gt; ▁l ive ▁cricket &lt;unk&gt; &lt;unk&gt; co re , &lt;unk&gt; ▁v s &lt;unk&gt; ▁1 st ▁test , ▁3 rd ▁ &lt;unk&gt; day , ▁ऑस्ट्रेलिया ▁ २३५ ▁ला ▁ऑ ला ▁ आऊट , ▁मात्र ▁पुन्हा ▁सुरू ▁झाला ▁पाऊस</td>\n",
              "      <td>sports</td>\n",
              "    </tr>\n",
              "    <tr>\n",
              "      <td>▁x x bo s &lt;unk&gt; ▁v &lt;unk&gt; id e o ▁: ▁x x re p ▁4 ▁ . ▁आणि ▁हा ▁' ब च्च ू ' ▁पोह ायला ▁लागला ; ▁कासव ावर ही ▁ फिज िओ थेर पी ची ▁जादू</td>\n",
              "      <td>state</td>\n",
              "    </tr>\n",
              "  </tbody>\n",
              "</table>"
            ],
            "text/plain": [
              "<IPython.core.display.HTML object>"
            ]
          },
          "metadata": {
            "tags": []
          }
        }
      ]
    },
    {
      "cell_type": "code",
      "metadata": {
        "id": "palnuyr9_pcH"
      },
      "source": [
        "del awd_lstm_config['tie_weights']\n",
        "del awd_lstm_config['out_bias']"
      ],
      "execution_count": null,
      "outputs": []
    },
    {
      "cell_type": "code",
      "metadata": {
        "id": "jsSoHYQU_sen"
      },
      "source": [
        "learn = text_classifier_learner(data_clas, arch=AWD_LSTM, drop_mult=0.5, config=awd_lstm_config)"
      ],
      "execution_count": null,
      "outputs": []
    },
    {
      "cell_type": "code",
      "metadata": {
        "id": "FcHrlmA2_z1m",
        "outputId": "94e1965c-f284-4647-e453-32ccc3fc9396",
        "colab": {
          "base_uri": "https://localhost:8080/",
          "height": 1000
        }
      },
      "source": [
        "learn.load_encoder('fine_tuned_enc')"
      ],
      "execution_count": null,
      "outputs": [
        {
          "output_type": "execute_result",
          "data": {
            "text/plain": [
              "RNNLearner(data=TextClasDataBunch;\n",
              "\n",
              "Train: LabelList (9673 items)\n",
              "x: TextList\n",
              "▁x x bo s ▁सचिन ▁तेंडुलकर ने ▁बाळासाहेब ांच्या ▁आठवणी ंना ▁दिला ▁उ जाळ ा,▁x x bo s ▁बहुजन ▁वंचित ▁आघाडी ची ▁पहिली ▁यादी ▁जाहीर , ▁प्रकाश ▁आंबेडकरांच्या ▁मतदारसंघ ावरुन ▁स स्पे ं न्स ▁कायम,▁x x bo s ▁गृह मंत्रिपद ▁हे ▁पार्ट ▁टाइम ▁नाही , ▁राजीनामा ▁द्या , ▁ तृप्त ी ▁देसाई ंची ▁मुख्यमंत्र्या ंवर ▁टीका,▁x x bo s ▁पुण्यात ▁आघाडी चा ▁पोपट ▁पुन्हा ▁जिवंत ▁!,▁x x bo s ▁शरद ▁पवार ▁यांनी ▁मिलिंद ▁नार ्वे कर ▁यांच्या ▁कानात ▁काय ▁सांगितलं ▁असेल ?\n",
              "y: CategoryList\n",
              "state,state,state,state,state\n",
              "Path: /content/drive/My Drive/NLP Marathi;\n",
              "\n",
              "Valid: LabelList (2419 items)\n",
              "x: TextList\n",
              "▁x x bo s ▁पहाटे ▁3 : 30 ▁वाजता ▁बी ग ▁बी ंनी ▁गाय ल ▁' हे ' ▁रॅप ▁स ाँग,▁x x bo s ▁राष्ट्रपती ▁आणि ▁पंतप्रधान ांनी ▁वाहिली ▁श्री देवी ंना ▁श्रद्धांजली,▁x x bo s ▁साय रा ▁बा नो ंना ▁जागे साठी ▁धमकाव णाऱ्या ▁बिल्डर ाविरोधात ▁गुन्हा ▁दाखल,▁x x bo s ▁मुंबईत ▁पहिल्यांदाच ▁पन्ना शी ▁पार , ▁राज्यात ▁सरासरी ▁55 ▁टक्के ▁मतदान,▁x x bo s ▁अण्णां ची ▁मन धरण ी ▁करण्यासाठी ▁गिरीश ▁महाजन ▁रा ळे गण सिद्धी त ▁!\n",
              "y: CategoryList\n",
              "entertainment,entertainment,entertainment,state,state\n",
              "Path: /content/drive/My Drive/NLP Marathi;\n",
              "\n",
              "Test: None, model=SequentialRNN(\n",
              "  (0): MultiBatchEncoder(\n",
              "    (module): AWD_LSTM(\n",
              "      (encoder): Embedding(30000, 400, padding_idx=1)\n",
              "      (encoder_dp): EmbeddingDropout(\n",
              "        (emb): Embedding(30000, 400, padding_idx=1)\n",
              "      )\n",
              "      (rnns): ModuleList(\n",
              "        (0): WeightDropout(\n",
              "          (module): LSTM(400, 1150, batch_first=True)\n",
              "        )\n",
              "        (1): WeightDropout(\n",
              "          (module): LSTM(1150, 1150, batch_first=True)\n",
              "        )\n",
              "        (2): WeightDropout(\n",
              "          (module): LSTM(1150, 400, batch_first=True)\n",
              "        )\n",
              "      )\n",
              "      (input_dp): RNNDropout()\n",
              "      (hidden_dps): ModuleList(\n",
              "        (0): RNNDropout()\n",
              "        (1): RNNDropout()\n",
              "        (2): RNNDropout()\n",
              "      )\n",
              "    )\n",
              "  )\n",
              "  (1): PoolingLinearClassifier(\n",
              "    (layers): Sequential(\n",
              "      (0): BatchNorm1d(1200, eps=1e-05, momentum=0.1, affine=True, track_running_stats=True)\n",
              "      (1): Dropout(p=0.05)\n",
              "      (2): Linear(in_features=1200, out_features=50, bias=True)\n",
              "      (3): ReLU(inplace)\n",
              "      (4): BatchNorm1d(50, eps=1e-05, momentum=0.1, affine=True, track_running_stats=True)\n",
              "      (5): Dropout(p=0.1)\n",
              "      (6): Linear(in_features=50, out_features=3, bias=True)\n",
              "    )\n",
              "  )\n",
              "), opt_func=functools.partial(<class 'torch.optim.adam.Adam'>, betas=(0.9, 0.99)), loss_func=FlattenedLoss of CrossEntropyLoss(), metrics=[<function accuracy at 0x7f9b5dbb9ae8>], true_wd=True, bn_wd=True, wd=0.01, train_bn=True, path=PosixPath('/content/drive/My Drive/NLP Marathi'), model_dir='models', callback_fns=[functools.partial(<class 'fastai.basic_train.Recorder'>, add_time=True, silent=False)], callbacks=[RNNTrainer\n",
              "learn: RNNLearner(data=TextClasDataBunch;\n",
              "\n",
              "Train: LabelList (9673 items)\n",
              "x: TextList\n",
              "▁x x bo s ▁सचिन ▁तेंडुलकर ने ▁बाळासाहेब ांच्या ▁आठवणी ंना ▁दिला ▁उ जाळ ा,▁x x bo s ▁बहुजन ▁वंचित ▁आघाडी ची ▁पहिली ▁यादी ▁जाहीर , ▁प्रकाश ▁आंबेडकरांच्या ▁मतदारसंघ ावरुन ▁स स्पे ं न्स ▁कायम,▁x x bo s ▁गृह मंत्रिपद ▁हे ▁पार्ट ▁टाइम ▁नाही , ▁राजीनामा ▁द्या , ▁ तृप्त ी ▁देसाई ंची ▁मुख्यमंत्र्या ंवर ▁टीका,▁x x bo s ▁पुण्यात ▁आघाडी चा ▁पोपट ▁पुन्हा ▁जिवंत ▁!,▁x x bo s ▁शरद ▁पवार ▁यांनी ▁मिलिंद ▁नार ्वे कर ▁यांच्या ▁कानात ▁काय ▁सांगितलं ▁असेल ?\n",
              "y: CategoryList\n",
              "state,state,state,state,state\n",
              "Path: /content/drive/My Drive/NLP Marathi;\n",
              "\n",
              "Valid: LabelList (2419 items)\n",
              "x: TextList\n",
              "▁x x bo s ▁पहाटे ▁3 : 30 ▁वाजता ▁बी ग ▁बी ंनी ▁गाय ल ▁' हे ' ▁रॅप ▁स ाँग,▁x x bo s ▁राष्ट्रपती ▁आणि ▁पंतप्रधान ांनी ▁वाहिली ▁श्री देवी ंना ▁श्रद्धांजली,▁x x bo s ▁साय रा ▁बा नो ंना ▁जागे साठी ▁धमकाव णाऱ्या ▁बिल्डर ाविरोधात ▁गुन्हा ▁दाखल,▁x x bo s ▁मुंबईत ▁पहिल्यांदाच ▁पन्ना शी ▁पार , ▁राज्यात ▁सरासरी ▁55 ▁टक्के ▁मतदान,▁x x bo s ▁अण्णां ची ▁मन धरण ी ▁करण्यासाठी ▁गिरीश ▁महाजन ▁रा ळे गण सिद्धी त ▁!\n",
              "y: CategoryList\n",
              "entertainment,entertainment,entertainment,state,state\n",
              "Path: /content/drive/My Drive/NLP Marathi;\n",
              "\n",
              "Test: None, model=SequentialRNN(\n",
              "  (0): MultiBatchEncoder(\n",
              "    (module): AWD_LSTM(\n",
              "      (encoder): Embedding(30000, 400, padding_idx=1)\n",
              "      (encoder_dp): EmbeddingDropout(\n",
              "        (emb): Embedding(30000, 400, padding_idx=1)\n",
              "      )\n",
              "      (rnns): ModuleList(\n",
              "        (0): WeightDropout(\n",
              "          (module): LSTM(400, 1150, batch_first=True)\n",
              "        )\n",
              "        (1): WeightDropout(\n",
              "          (module): LSTM(1150, 1150, batch_first=True)\n",
              "        )\n",
              "        (2): WeightDropout(\n",
              "          (module): LSTM(1150, 400, batch_first=True)\n",
              "        )\n",
              "      )\n",
              "      (input_dp): RNNDropout()\n",
              "      (hidden_dps): ModuleList(\n",
              "        (0): RNNDropout()\n",
              "        (1): RNNDropout()\n",
              "        (2): RNNDropout()\n",
              "      )\n",
              "    )\n",
              "  )\n",
              "  (1): PoolingLinearClassifier(\n",
              "    (layers): Sequential(\n",
              "      (0): BatchNorm1d(1200, eps=1e-05, momentum=0.1, affine=True, track_running_stats=True)\n",
              "      (1): Dropout(p=0.05)\n",
              "      (2): Linear(in_features=1200, out_features=50, bias=True)\n",
              "      (3): ReLU(inplace)\n",
              "      (4): BatchNorm1d(50, eps=1e-05, momentum=0.1, affine=True, track_running_stats=True)\n",
              "      (5): Dropout(p=0.1)\n",
              "      (6): Linear(in_features=50, out_features=3, bias=True)\n",
              "    )\n",
              "  )\n",
              "), opt_func=functools.partial(<class 'torch.optim.adam.Adam'>, betas=(0.9, 0.99)), loss_func=FlattenedLoss of CrossEntropyLoss(), metrics=[<function accuracy at 0x7f9b5dbb9ae8>], true_wd=True, bn_wd=True, wd=0.01, train_bn=True, path=PosixPath('/content/drive/My Drive/NLP Marathi'), model_dir='models', callback_fns=[functools.partial(<class 'fastai.basic_train.Recorder'>, add_time=True, silent=False)], callbacks=[...], layer_groups=[Sequential(\n",
              "  (0): Embedding(30000, 400, padding_idx=1)\n",
              "  (1): EmbeddingDropout(\n",
              "    (emb): Embedding(30000, 400, padding_idx=1)\n",
              "  )\n",
              "), Sequential(\n",
              "  (0): WeightDropout(\n",
              "    (module): LSTM(400, 1150, batch_first=True)\n",
              "  )\n",
              "  (1): RNNDropout()\n",
              "), Sequential(\n",
              "  (0): WeightDropout(\n",
              "    (module): LSTM(1150, 1150, batch_first=True)\n",
              "  )\n",
              "  (1): RNNDropout()\n",
              "), Sequential(\n",
              "  (0): WeightDropout(\n",
              "    (module): LSTM(1150, 400, batch_first=True)\n",
              "  )\n",
              "  (1): RNNDropout()\n",
              "), Sequential(\n",
              "  (0): PoolingLinearClassifier(\n",
              "    (layers): Sequential(\n",
              "      (0): BatchNorm1d(1200, eps=1e-05, momentum=0.1, affine=True, track_running_stats=True)\n",
              "      (1): Dropout(p=0.05)\n",
              "      (2): Linear(in_features=1200, out_features=50, bias=True)\n",
              "      (3): ReLU(inplace)\n",
              "      (4): BatchNorm1d(50, eps=1e-05, momentum=0.1, affine=True, track_running_stats=True)\n",
              "      (5): Dropout(p=0.1)\n",
              "      (6): Linear(in_features=50, out_features=3, bias=True)\n",
              "    )\n",
              "  )\n",
              ")], add_time=True, silent=False)\n",
              "alpha: 2.0\n",
              "beta: 1.0], layer_groups=[Sequential(\n",
              "  (0): Embedding(30000, 400, padding_idx=1)\n",
              "  (1): EmbeddingDropout(\n",
              "    (emb): Embedding(30000, 400, padding_idx=1)\n",
              "  )\n",
              "), Sequential(\n",
              "  (0): WeightDropout(\n",
              "    (module): LSTM(400, 1150, batch_first=True)\n",
              "  )\n",
              "  (1): RNNDropout()\n",
              "), Sequential(\n",
              "  (0): WeightDropout(\n",
              "    (module): LSTM(1150, 1150, batch_first=True)\n",
              "  )\n",
              "  (1): RNNDropout()\n",
              "), Sequential(\n",
              "  (0): WeightDropout(\n",
              "    (module): LSTM(1150, 400, batch_first=True)\n",
              "  )\n",
              "  (1): RNNDropout()\n",
              "), Sequential(\n",
              "  (0): PoolingLinearClassifier(\n",
              "    (layers): Sequential(\n",
              "      (0): BatchNorm1d(1200, eps=1e-05, momentum=0.1, affine=True, track_running_stats=True)\n",
              "      (1): Dropout(p=0.05)\n",
              "      (2): Linear(in_features=1200, out_features=50, bias=True)\n",
              "      (3): ReLU(inplace)\n",
              "      (4): BatchNorm1d(50, eps=1e-05, momentum=0.1, affine=True, track_running_stats=True)\n",
              "      (5): Dropout(p=0.1)\n",
              "      (6): Linear(in_features=50, out_features=3, bias=True)\n",
              "    )\n",
              "  )\n",
              ")], add_time=True, silent=False)"
            ]
          },
          "metadata": {
            "tags": []
          },
          "execution_count": 37
        }
      ]
    },
    {
      "cell_type": "code",
      "metadata": {
        "id": "EPDStYFeAAHM"
      },
      "source": [
        "learn.freeze()"
      ],
      "execution_count": null,
      "outputs": []
    },
    {
      "cell_type": "code",
      "metadata": {
        "id": "NCRhKcvuAE1D",
        "outputId": "894ad2ad-a093-4278-a312-5637bc15fa92",
        "colab": {
          "base_uri": "https://localhost:8080/",
          "height": 114
        }
      },
      "source": [
        "learn.lr_find()"
      ],
      "execution_count": null,
      "outputs": [
        {
          "output_type": "display_data",
          "data": {
            "text/html": [
              "\n",
              "    <div>\n",
              "        <style>\n",
              "            /* Turns off some styling */\n",
              "            progress {\n",
              "                /* gets rid of default border in Firefox and Opera. */\n",
              "                border: none;\n",
              "                /* Needs to be in here for Safari polyfill so background images work as expected. */\n",
              "                background-size: auto;\n",
              "            }\n",
              "            .progress-bar-interrupted, .progress-bar-interrupted::-webkit-progress-bar {\n",
              "                background: #F44336;\n",
              "            }\n",
              "        </style>\n",
              "      <progress value='0' class='' max='1' style='width:300px; height:20px; vertical-align: middle;'></progress>\n",
              "      0.00% [0/1 00:00<00:00]\n",
              "    </div>\n",
              "    \n",
              "<table border=\"1\" class=\"dataframe\">\n",
              "  <thead>\n",
              "    <tr style=\"text-align: left;\">\n",
              "      <th>epoch</th>\n",
              "      <th>train_loss</th>\n",
              "      <th>valid_loss</th>\n",
              "      <th>accuracy</th>\n",
              "      <th>time</th>\n",
              "    </tr>\n",
              "  </thead>\n",
              "  <tbody>\n",
              "  </tbody>\n",
              "</table><p>\n",
              "\n",
              "    <div>\n",
              "        <style>\n",
              "            /* Turns off some styling */\n",
              "            progress {\n",
              "                /* gets rid of default border in Firefox and Opera. */\n",
              "                border: none;\n",
              "                /* Needs to be in here for Safari polyfill so background images work as expected. */\n",
              "                background-size: auto;\n",
              "            }\n",
              "            .progress-bar-interrupted, .progress-bar-interrupted::-webkit-progress-bar {\n",
              "                background: #F44336;\n",
              "            }\n",
              "        </style>\n",
              "      <progress value='89' class='' max='604' style='width:300px; height:20px; vertical-align: middle;'></progress>\n",
              "      14.74% [89/604 00:01<00:11 0.9415]\n",
              "    </div>\n",
              "    "
            ],
            "text/plain": [
              "<IPython.core.display.HTML object>"
            ]
          },
          "metadata": {
            "tags": []
          }
        },
        {
          "output_type": "stream",
          "text": [
            "LR Finder is complete, type {learner_name}.recorder.plot() to see the graph.\n"
          ],
          "name": "stdout"
        }
      ]
    },
    {
      "cell_type": "code",
      "metadata": {
        "id": "-_2NQCSJAWdh",
        "outputId": "174651cd-30a5-432a-fa50-602d036e87cc",
        "colab": {
          "base_uri": "https://localhost:8080/",
          "height": 279
        }
      },
      "source": [
        "learn.recorder.plot()"
      ],
      "execution_count": null,
      "outputs": [
        {
          "output_type": "display_data",
          "data": {
            "image/png": "[encoded data removed]",
            "text/plain": [
              "<Figure size 432x288 with 1 Axes>"
            ]
          },
          "metadata": {
            "tags": [],
            "needs_background": "light"
          }
        }
      ]
    },
    {
      "cell_type": "code",
      "metadata": {
        "id": "f2XRQ2s2Abv5",
        "outputId": "6e71bf28-9455-45dc-cc86-096f8e04e014",
        "colab": {
          "base_uri": "https://localhost:8080/",
          "height": 35
        }
      },
      "source": [
        "learn.loss_func.func"
      ],
      "execution_count": null,
      "outputs": [
        {
          "output_type": "execute_result",
          "data": {
            "text/plain": [
              "CrossEntropyLoss()"
            ]
          },
          "metadata": {
            "tags": []
          },
          "execution_count": 41
        }
      ]
    },
    {
      "cell_type": "code",
      "metadata": {
        "id": "GGvgMx98AfeI"
      },
      "source": [
        "kappa = KappaScore()"
      ],
      "execution_count": null,
      "outputs": []
    },
    {
      "cell_type": "code",
      "metadata": {
        "id": "5-etsCd0AiHH"
      },
      "source": [
        "learn.metrics = [kappa, accuracy]"
      ],
      "execution_count": null,
      "outputs": []
    },
    {
      "cell_type": "code",
      "metadata": {
        "id": "6wX-MvrzAkXO",
        "outputId": "0af4cba8-3829-4faa-ceeb-c1bb802691c5",
        "colab": {
          "base_uri": "https://localhost:8080/",
          "height": 80
        }
      },
      "source": [
        "learn.fit_one_cycle(1, 1e-2)"
      ],
      "execution_count": null,
      "outputs": [
        {
          "output_type": "display_data",
          "data": {
            "text/html": [
              "<table border=\"1\" class=\"dataframe\">\n",
              "  <thead>\n",
              "    <tr style=\"text-align: left;\">\n",
              "      <th>epoch</th>\n",
              "      <th>train_loss</th>\n",
              "      <th>valid_loss</th>\n",
              "      <th>kappa_score</th>\n",
              "      <th>accuracy</th>\n",
              "      <th>time</th>\n",
              "    </tr>\n",
              "  </thead>\n",
              "  <tbody>\n",
              "    <tr>\n",
              "      <td>0</td>\n",
              "      <td>0.412188</td>\n",
              "      <td>0.311331</td>\n",
              "      <td>0.767002</td>\n",
              "      <td>0.881356</td>\n",
              "      <td>00:12</td>\n",
              "    </tr>\n",
              "  </tbody>\n",
              "</table>"
            ],
            "text/plain": [
              "<IPython.core.display.HTML object>"
            ]
          },
          "metadata": {
            "tags": []
          }
        }
      ]
    },
    {
      "cell_type": "code",
      "metadata": {
        "id": "v1ydc6KJBA-W",
        "outputId": "e7f01735-9e9d-44aa-a590-5f3446ed8fc6",
        "colab": {
          "base_uri": "https://localhost:8080/",
          "height": 80
        }
      },
      "source": [
        "learn.freeze_to(-2)\n",
        "learn.fit_one_cycle(1, 1e-2)"
      ],
      "execution_count": null,
      "outputs": [
        {
          "output_type": "display_data",
          "data": {
            "text/html": [
              "<table border=\"1\" class=\"dataframe\">\n",
              "  <thead>\n",
              "    <tr style=\"text-align: left;\">\n",
              "      <th>epoch</th>\n",
              "      <th>train_loss</th>\n",
              "      <th>valid_loss</th>\n",
              "      <th>kappa_score</th>\n",
              "      <th>accuracy</th>\n",
              "      <th>time</th>\n",
              "    </tr>\n",
              "  </thead>\n",
              "  <tbody>\n",
              "    <tr>\n",
              "      <td>0</td>\n",
              "      <td>0.324208</td>\n",
              "      <td>0.241747</td>\n",
              "      <td>0.832640</td>\n",
              "      <td>0.912774</td>\n",
              "      <td>00:14</td>\n",
              "    </tr>\n",
              "  </tbody>\n",
              "</table>"
            ],
            "text/plain": [
              "<IPython.core.display.HTML object>"
            ]
          },
          "metadata": {
            "tags": []
          }
        }
      ]
    },
    {
      "cell_type": "code",
      "metadata": {
        "id": "1ZEV1tzgE4S8"
      },
      "source": [
        "learn.save('second-full')"
      ],
      "execution_count": null,
      "outputs": []
    },
    {
      "cell_type": "code",
      "metadata": {
        "id": "4AM654HLE78a",
        "outputId": "89cc1f41-d626-4667-91c5-33f90db3809f",
        "colab": {
          "base_uri": "https://localhost:8080/",
          "height": 258
        }
      },
      "source": [
        "learn.unfreeze()\n",
        "learn.fit_one_cycle(5, 1e-3, callbacks=[callbacks.SaveModelCallback(learn, every='improvement', monitor='accuracy', name='final')])"
      ],
      "execution_count": null,
      "outputs": [
        {
          "output_type": "display_data",
          "data": {
            "text/html": [
              "<table border=\"1\" class=\"dataframe\">\n",
              "  <thead>\n",
              "    <tr style=\"text-align: left;\">\n",
              "      <th>epoch</th>\n",
              "      <th>train_loss</th>\n",
              "      <th>valid_loss</th>\n",
              "      <th>kappa_score</th>\n",
              "      <th>accuracy</th>\n",
              "      <th>time</th>\n",
              "    </tr>\n",
              "  </thead>\n",
              "  <tbody>\n",
              "    <tr>\n",
              "      <td>0</td>\n",
              "      <td>0.071508</td>\n",
              "      <td>0.243824</td>\n",
              "      <td>0.860956</td>\n",
              "      <td>0.927243</td>\n",
              "      <td>00:20</td>\n",
              "    </tr>\n",
              "    <tr>\n",
              "      <td>1</td>\n",
              "      <td>0.100259</td>\n",
              "      <td>0.258941</td>\n",
              "      <td>0.854633</td>\n",
              "      <td>0.923936</td>\n",
              "      <td>00:21</td>\n",
              "    </tr>\n",
              "    <tr>\n",
              "      <td>2</td>\n",
              "      <td>0.049592</td>\n",
              "      <td>0.246790</td>\n",
              "      <td>0.861821</td>\n",
              "      <td>0.928483</td>\n",
              "      <td>00:21</td>\n",
              "    </tr>\n",
              "    <tr>\n",
              "      <td>3</td>\n",
              "      <td>0.026989</td>\n",
              "      <td>0.255958</td>\n",
              "      <td>0.864093</td>\n",
              "      <td>0.928896</td>\n",
              "      <td>00:22</td>\n",
              "    </tr>\n",
              "    <tr>\n",
              "      <td>4</td>\n",
              "      <td>0.016860</td>\n",
              "      <td>0.246166</td>\n",
              "      <td>0.862669</td>\n",
              "      <td>0.928483</td>\n",
              "      <td>00:22</td>\n",
              "    </tr>\n",
              "  </tbody>\n",
              "</table>"
            ],
            "text/plain": [
              "<IPython.core.display.HTML object>"
            ]
          },
          "metadata": {
            "tags": []
          }
        },
        {
          "output_type": "stream",
          "text": [
            "Better model found at epoch 0 with accuracy value: 0.927242636680603.\n",
            "Better model found at epoch 2 with accuracy value: 0.9284828305244446.\n",
            "Better model found at epoch 3 with accuracy value: 0.9288962483406067.\n"
          ],
          "name": "stdout"
        }
      ]
    },
    {
      "cell_type": "markdown",
      "metadata": {
        "id": "PTcb9a2nytAE"
      },
      "source": [
        "# Loading Classifier Model"
      ]
    },
    {
      "cell_type": "code",
      "metadata": {
        "id": "cpYfsMEFXB0C",
        "outputId": "4dc4ad77-d342-4bb2-86a5-c9679bb2105c",
        "colab": {
          "base_uri": "https://localhost:8080/",
          "height": 121
        }
      },
      "source": [
        "from google.colab import drive\n",
        "drive.mount('/content/drive')\n",
        "train_df = pd.read_csv('/content/drive/My Drive/marathi-news-dataset/train.csv')\n",
        "valid_df = pd.read_csv('/content/drive/My Drive/marathi-news-dataset/valid.csv')"
      ],
      "execution_count": null,
      "outputs": [
        {
          "output_type": "stream",
          "text": [
            "Go to this URL in a browser: https://accounts.google.com/o/oauth2/auth?client_id=947318989803-6bn6qk8qdgf4n4g3pfee6491hc0brc4i.apps.googleusercontent.com&redirect_uri=urn%3aietf%3awg%3aoauth%3a2.0%3aoob&response_type=code&scope=email%20https%3a%2f%2fwww.googleapis.com%2fauth%2fdocs.test%20https%3a%2f%2fwww.googleapis.com%2fauth%2fdrive%20https%3a%2f%2fwww.googleapis.com%2fauth%2fdrive.photos.readonly%20https%3a%2f%2fwww.googleapis.com%2fauth%2fpeopleapi.readonly\n",
            "\n",
            "Enter your authorization code:\n",
            "··········\n",
            "Mounted at /content/drive\n"
          ],
          "name": "stdout"
        }
      ]
    },
    {
      "cell_type": "code",
      "metadata": {
        "id": "M64xxmiOXC1c"
      },
      "source": [
        "class MarathiTokenizer(BaseTokenizer):\n",
        "    def __init__(self, lang:str):\n",
        "        self.lang = lang\n",
        "        self.sp = spm.SentencePieceProcessor()\n",
        "        self.sp.Load(str(\"/content/drive/My Drive/NLP Marathi/marathi_lm.model\"))\n",
        "        \n",
        "    def tokenizer(self, t:str) -> List[str]:\n",
        "        return self.sp.EncodeAsPieces(t)\n",
        "\n",
        "tokenizer = Tokenizer(tok_func=MarathiTokenizer, lang='mr')"
      ],
      "execution_count": null,
      "outputs": []
    },
    {
      "cell_type": "code",
      "metadata": {
        "id": "PjI4R4EhZYfk"
      },
      "source": [
        "sp = spm.SentencePieceProcessor()\n",
        "sp.Load(str(\"/content/drive/My Drive/NLP Marathi/marathi_lm.model\"))\n",
        "itos = [sp.IdToPiece(int(i)) for i in range(30000)]\n",
        "marathi_vocab = Vocab(itos)"
      ],
      "execution_count": null,
      "outputs": []
    },
    {
      "cell_type": "code",
      "metadata": {
        "id": "Ee549ptnZhON",
        "outputId": "48886245-fa3c-433c-80e3-c7491db5dc6a",
        "colab": {
          "base_uri": "https://localhost:8080/",
          "height": 17
        }
      },
      "source": [
        "label_cols = list(range(1,train_df.shape[1]))\n",
        "data_lm = TextLMDataBunch.from_df(path=\"/content/drive/My Drive/NLP Marathi/\", train_df=train_df, valid_df=valid_df, text_cols=[0], label_cols=label_cols, tokenizer=tokenizer, vocab=marathi_vocab, bs=16)\n",
        "awd_lstm_config = awd_lstm_lm_config.copy()\n",
        "awd_lstm_config['n_hid'] = 1150\n",
        "learn = language_model_learner(data_lm, arch=AWD_LSTM, drop_mult=0.3, config=awd_lstm_config, pretrained=False)"
      ],
      "execution_count": null,
      "outputs": [
        {
          "output_type": "display_data",
          "data": {
            "text/html": [
              ""
            ],
            "text/plain": [
              "<IPython.core.display.HTML object>"
            ]
          },
          "metadata": {
            "tags": []
          }
        },
        {
          "output_type": "display_data",
          "data": {
            "text/html": [
              ""
            ],
            "text/plain": [
              "<IPython.core.display.HTML object>"
            ]
          },
          "metadata": {
            "tags": []
          }
        }
      ]
    },
    {
      "cell_type": "code",
      "metadata": {
        "id": "Z6V_HbSc7jEy",
        "outputId": "eaaa577f-af47-4b98-8b8a-15a8c69264ed",
        "colab": {
          "base_uri": "https://localhost:8080/",
          "height": 34
        }
      },
      "source": [
        "data_clas = TextClasDataBunch.from_df(path=\"/content/drive/My Drive/NLP Marathi/\", train_df=train_df, valid_df=valid_df, tokenizer=tokenizer, vocab=marathi_vocab, text_cols=[0], label_cols=label_cols, bs=16)\n",
        "del awd_lstm_config['tie_weights']\n",
        "del awd_lstm_config['out_bias']\n",
        "learn = text_classifier_learner(data_clas, arch=AWD_LSTM, drop_mult=0.5, config=awd_lstm_config)"
      ],
      "execution_count": null,
      "outputs": [
        {
          "output_type": "display_data",
          "data": {
            "text/html": [
              ""
            ],
            "text/plain": [
              "<IPython.core.display.HTML object>"
            ]
          },
          "metadata": {
            "tags": []
          }
        },
        {
          "output_type": "display_data",
          "data": {
            "text/html": [
              ""
            ],
            "text/plain": [
              "<IPython.core.display.HTML object>"
            ]
          },
          "metadata": {
            "tags": []
          }
        },
        {
          "output_type": "stream",
          "text": [
            "Downloading https://s3.amazonaws.com/fast-ai-modelzoo/wt103-fwd\n"
          ],
          "name": "stdout"
        },
        {
          "output_type": "display_data",
          "data": {
            "text/html": [
              ""
            ],
            "text/plain": [
              "<IPython.core.display.HTML object>"
            ]
          },
          "metadata": {
            "tags": []
          }
        }
      ]
    },
    {
      "cell_type": "code",
      "metadata": {
        "id": "wXTcyUuby129",
        "outputId": "cc10c0f6-7013-4352-a3e0-5d11050a7af2",
        "colab": {
          "base_uri": "https://localhost:8080/",
          "height": 1000
        }
      },
      "source": [
        "learn.load('/content/drive/My Drive/NLP Marathi/models/final-model')"
      ],
      "execution_count": null,
      "outputs": [
        {
          "output_type": "execute_result",
          "data": {
            "text/plain": [
              "RNNLearner(data=TextClasDataBunch;\n",
              "\n",
              "Train: LabelList (9673 items)\n",
              "x: TextList\n",
              "▁x x bo s ▁सचिन ▁तेंडुलकर ने ▁बाळासाहेब ांच्या ▁आठवणी ंना ▁दिला ▁उ जाळ ा,▁x x bo s ▁बहुजन ▁वंचित ▁आघाडी ची ▁पहिली ▁यादी ▁जाहीर , ▁प्रकाश ▁आंबेडकरांच्या ▁मतदारसंघ ावरुन ▁स स्पे ं न्स ▁कायम,▁x x bo s ▁गृह मंत्रिपद ▁हे ▁पार्ट ▁टाइम ▁नाही , ▁राजीनामा ▁द्या , ▁ तृप्त ी ▁देसाई ंची ▁मुख्यमंत्र्या ंवर ▁टीका,▁x x bo s ▁पुण्यात ▁आघाडी चा ▁पोपट ▁पुन्हा ▁जिवंत ▁!,▁x x bo s ▁शरद ▁पवार ▁यांनी ▁मिलिंद ▁नार ्वे कर ▁यांच्या ▁कानात ▁काय ▁सांगितलं ▁असेल ?\n",
              "y: CategoryList\n",
              "state,state,state,state,state\n",
              "Path: /content/drive/My Drive/NLP Marathi;\n",
              "\n",
              "Valid: LabelList (2419 items)\n",
              "x: TextList\n",
              "▁x x bo s ▁पहाटे ▁3 : 30 ▁वाजता ▁बी ग ▁बी ंनी ▁गाय ल ▁' हे ' ▁रॅप ▁स ाँग,▁x x bo s ▁राष्ट्रपती ▁आणि ▁पंतप्रधान ांनी ▁वाहिली ▁श्री देवी ंना ▁श्रद्धांजली,▁x x bo s ▁साय रा ▁बा नो ंना ▁जागे साठी ▁धमकाव णाऱ्या ▁बिल्डर ाविरोधात ▁गुन्हा ▁दाखल,▁x x bo s ▁मुंबईत ▁पहिल्यांदाच ▁पन्ना शी ▁पार , ▁राज्यात ▁सरासरी ▁55 ▁टक्के ▁मतदान,▁x x bo s ▁अण्णां ची ▁मन धरण ी ▁करण्यासाठी ▁गिरीश ▁महाजन ▁रा ळे गण सिद्धी त ▁!\n",
              "y: CategoryList\n",
              "entertainment,entertainment,entertainment,state,state\n",
              "Path: /content/drive/My Drive/NLP Marathi;\n",
              "\n",
              "Test: None, model=SequentialRNN(\n",
              "  (0): MultiBatchEncoder(\n",
              "    (module): AWD_LSTM(\n",
              "      (encoder): Embedding(30000, 400, padding_idx=1)\n",
              "      (encoder_dp): EmbeddingDropout(\n",
              "        (emb): Embedding(30000, 400, padding_idx=1)\n",
              "      )\n",
              "      (rnns): ModuleList(\n",
              "        (0): WeightDropout(\n",
              "          (module): LSTM(400, 1150, batch_first=True)\n",
              "        )\n",
              "        (1): WeightDropout(\n",
              "          (module): LSTM(1150, 1150, batch_first=True)\n",
              "        )\n",
              "        (2): WeightDropout(\n",
              "          (module): LSTM(1150, 400, batch_first=True)\n",
              "        )\n",
              "      )\n",
              "      (input_dp): RNNDropout()\n",
              "      (hidden_dps): ModuleList(\n",
              "        (0): RNNDropout()\n",
              "        (1): RNNDropout()\n",
              "        (2): RNNDropout()\n",
              "      )\n",
              "    )\n",
              "  )\n",
              "  (1): PoolingLinearClassifier(\n",
              "    (layers): Sequential(\n",
              "      (0): BatchNorm1d(1200, eps=1e-05, momentum=0.1, affine=True, track_running_stats=True)\n",
              "      (1): Dropout(p=0.05)\n",
              "      (2): Linear(in_features=1200, out_features=50, bias=True)\n",
              "      (3): ReLU(inplace)\n",
              "      (4): BatchNorm1d(50, eps=1e-05, momentum=0.1, affine=True, track_running_stats=True)\n",
              "      (5): Dropout(p=0.1)\n",
              "      (6): Linear(in_features=50, out_features=3, bias=True)\n",
              "    )\n",
              "  )\n",
              "), opt_func=functools.partial(<class 'torch.optim.adam.Adam'>, betas=(0.9, 0.99)), loss_func=FlattenedLoss of CrossEntropyLoss(), metrics=[<function accuracy at 0x7fbd5e038620>], true_wd=True, bn_wd=True, wd=0.01, train_bn=True, path=PosixPath('/content/drive/My Drive/NLP Marathi'), model_dir='models', callback_fns=[functools.partial(<class 'fastai.basic_train.Recorder'>, add_time=True, silent=False)], callbacks=[RNNTrainer\n",
              "learn: RNNLearner(data=TextClasDataBunch;\n",
              "\n",
              "Train: LabelList (9673 items)\n",
              "x: TextList\n",
              "▁x x bo s ▁सचिन ▁तेंडुलकर ने ▁बाळासाहेब ांच्या ▁आठवणी ंना ▁दिला ▁उ जाळ ा,▁x x bo s ▁बहुजन ▁वंचित ▁आघाडी ची ▁पहिली ▁यादी ▁जाहीर , ▁प्रकाश ▁आंबेडकरांच्या ▁मतदारसंघ ावरुन ▁स स्पे ं न्स ▁कायम,▁x x bo s ▁गृह मंत्रिपद ▁हे ▁पार्ट ▁टाइम ▁नाही , ▁राजीनामा ▁द्या , ▁ तृप्त ी ▁देसाई ंची ▁मुख्यमंत्र्या ंवर ▁टीका,▁x x bo s ▁पुण्यात ▁आघाडी चा ▁पोपट ▁पुन्हा ▁जिवंत ▁!,▁x x bo s ▁शरद ▁पवार ▁यांनी ▁मिलिंद ▁नार ्वे कर ▁यांच्या ▁कानात ▁काय ▁सांगितलं ▁असेल ?\n",
              "y: CategoryList\n",
              "state,state,state,state,state\n",
              "Path: /content/drive/My Drive/NLP Marathi;\n",
              "\n",
              "Valid: LabelList (2419 items)\n",
              "x: TextList\n",
              "▁x x bo s ▁पहाटे ▁3 : 30 ▁वाजता ▁बी ग ▁बी ंनी ▁गाय ल ▁' हे ' ▁रॅप ▁स ाँग,▁x x bo s ▁राष्ट्रपती ▁आणि ▁पंतप्रधान ांनी ▁वाहिली ▁श्री देवी ंना ▁श्रद्धांजली,▁x x bo s ▁साय रा ▁बा नो ंना ▁जागे साठी ▁धमकाव णाऱ्या ▁बिल्डर ाविरोधात ▁गुन्हा ▁दाखल,▁x x bo s ▁मुंबईत ▁पहिल्यांदाच ▁पन्ना शी ▁पार , ▁राज्यात ▁सरासरी ▁55 ▁टक्के ▁मतदान,▁x x bo s ▁अण्णां ची ▁मन धरण ी ▁करण्यासाठी ▁गिरीश ▁महाजन ▁रा ळे गण सिद्धी त ▁!\n",
              "y: CategoryList\n",
              "entertainment,entertainment,entertainment,state,state\n",
              "Path: /content/drive/My Drive/NLP Marathi;\n",
              "\n",
              "Test: None, model=SequentialRNN(\n",
              "  (0): MultiBatchEncoder(\n",
              "    (module): AWD_LSTM(\n",
              "      (encoder): Embedding(30000, 400, padding_idx=1)\n",
              "      (encoder_dp): EmbeddingDropout(\n",
              "        (emb): Embedding(30000, 400, padding_idx=1)\n",
              "      )\n",
              "      (rnns): ModuleList(\n",
              "        (0): WeightDropout(\n",
              "          (module): LSTM(400, 1150, batch_first=True)\n",
              "        )\n",
              "        (1): WeightDropout(\n",
              "          (module): LSTM(1150, 1150, batch_first=True)\n",
              "        )\n",
              "        (2): WeightDropout(\n",
              "          (module): LSTM(1150, 400, batch_first=True)\n",
              "        )\n",
              "      )\n",
              "      (input_dp): RNNDropout()\n",
              "      (hidden_dps): ModuleList(\n",
              "        (0): RNNDropout()\n",
              "        (1): RNNDropout()\n",
              "        (2): RNNDropout()\n",
              "      )\n",
              "    )\n",
              "  )\n",
              "  (1): PoolingLinearClassifier(\n",
              "    (layers): Sequential(\n",
              "      (0): BatchNorm1d(1200, eps=1e-05, momentum=0.1, affine=True, track_running_stats=True)\n",
              "      (1): Dropout(p=0.05)\n",
              "      (2): Linear(in_features=1200, out_features=50, bias=True)\n",
              "      (3): ReLU(inplace)\n",
              "      (4): BatchNorm1d(50, eps=1e-05, momentum=0.1, affine=True, track_running_stats=True)\n",
              "      (5): Dropout(p=0.1)\n",
              "      (6): Linear(in_features=50, out_features=3, bias=True)\n",
              "    )\n",
              "  )\n",
              "), opt_func=functools.partial(<class 'torch.optim.adam.Adam'>, betas=(0.9, 0.99)), loss_func=FlattenedLoss of CrossEntropyLoss(), metrics=[<function accuracy at 0x7fbd5e038620>], true_wd=True, bn_wd=True, wd=0.01, train_bn=True, path=PosixPath('/content/drive/My Drive/NLP Marathi'), model_dir='models', callback_fns=[functools.partial(<class 'fastai.basic_train.Recorder'>, add_time=True, silent=False)], callbacks=[...], layer_groups=[Sequential(\n",
              "  (0): Embedding(30000, 400, padding_idx=1)\n",
              "  (1): EmbeddingDropout(\n",
              "    (emb): Embedding(30000, 400, padding_idx=1)\n",
              "  )\n",
              "), Sequential(\n",
              "  (0): WeightDropout(\n",
              "    (module): LSTM(400, 1150, batch_first=True)\n",
              "  )\n",
              "  (1): RNNDropout()\n",
              "), Sequential(\n",
              "  (0): WeightDropout(\n",
              "    (module): LSTM(1150, 1150, batch_first=True)\n",
              "  )\n",
              "  (1): RNNDropout()\n",
              "), Sequential(\n",
              "  (0): WeightDropout(\n",
              "    (module): LSTM(1150, 400, batch_first=True)\n",
              "  )\n",
              "  (1): RNNDropout()\n",
              "), Sequential(\n",
              "  (0): PoolingLinearClassifier(\n",
              "    (layers): Sequential(\n",
              "      (0): BatchNorm1d(1200, eps=1e-05, momentum=0.1, affine=True, track_running_stats=True)\n",
              "      (1): Dropout(p=0.05)\n",
              "      (2): Linear(in_features=1200, out_features=50, bias=True)\n",
              "      (3): ReLU(inplace)\n",
              "      (4): BatchNorm1d(50, eps=1e-05, momentum=0.1, affine=True, track_running_stats=True)\n",
              "      (5): Dropout(p=0.1)\n",
              "      (6): Linear(in_features=50, out_features=3, bias=True)\n",
              "    )\n",
              "  )\n",
              ")], add_time=True, silent=False)\n",
              "alpha: 2.0\n",
              "beta: 1.0], layer_groups=[Sequential(\n",
              "  (0): Embedding(30000, 400, padding_idx=1)\n",
              "  (1): EmbeddingDropout(\n",
              "    (emb): Embedding(30000, 400, padding_idx=1)\n",
              "  )\n",
              "), Sequential(\n",
              "  (0): WeightDropout(\n",
              "    (module): LSTM(400, 1150, batch_first=True)\n",
              "  )\n",
              "  (1): RNNDropout()\n",
              "), Sequential(\n",
              "  (0): WeightDropout(\n",
              "    (module): LSTM(1150, 1150, batch_first=True)\n",
              "  )\n",
              "  (1): RNNDropout()\n",
              "), Sequential(\n",
              "  (0): WeightDropout(\n",
              "    (module): LSTM(1150, 400, batch_first=True)\n",
              "  )\n",
              "  (1): RNNDropout()\n",
              "), Sequential(\n",
              "  (0): PoolingLinearClassifier(\n",
              "    (layers): Sequential(\n",
              "      (0): BatchNorm1d(1200, eps=1e-05, momentum=0.1, affine=True, track_running_stats=True)\n",
              "      (1): Dropout(p=0.05)\n",
              "      (2): Linear(in_features=1200, out_features=50, bias=True)\n",
              "      (3): ReLU(inplace)\n",
              "      (4): BatchNorm1d(50, eps=1e-05, momentum=0.1, affine=True, track_running_stats=True)\n",
              "      (5): Dropout(p=0.1)\n",
              "      (6): Linear(in_features=50, out_features=3, bias=True)\n",
              "    )\n",
              "  )\n",
              ")], add_time=True, silent=False)"
            ]
          },
          "metadata": {
            "tags": []
          },
          "execution_count": 12
        }
      ]
    },
    {
      "cell_type": "markdown",
      "metadata": {
        "id": "MndHYojV5Xt8"
      },
      "source": [
        "# **RESULTANT TEXT CLASSIFIER**"
      ]
    },
    {
      "cell_type": "code",
      "metadata": {
        "id": "TAPAvRbsbgM3",
        "outputId": "a07c0a9e-63f2-4dc5-ba9d-e63bf06dd5ee",
        "colab": {
          "base_uri": "https://localhost:8080/",
          "height": 50
        }
      },
      "source": [
        "#@title Type an Input Sentence { display-mode: \"form\" }\n",
        "\n",
        "Sentence = \"\\u0915\\u0939\\u0940\\u0902 \\u0926\\u0942\\u0930 \\u091C\\u092C \\u0926\\u093F\\u0928 \\u0922\\u0932 \\u091C\\u093E\\u090F.... \\u092F\\u093E\\u0902\\u0938\\u093E\\u0930\\u0916\\u094D\\u092F\\u093E \\u0938\\u0926\\u093E\\u092C\\u0939\\u093E\\u0930 \\u0917\\u093E\\u0923\\u094D\\u092F\\u093E\\u0902\\u091A\\u0947 \\u0917\\u0940\\u0924\\u0915\\u093E\\u0930 \\u092F\\u094B\\u0917\\u0947\\u0936 \\u092F\\u093E\\u0902\\u091A\\u0902 \\u0928\\u093F\\u0927\\u0928\" #@param {type:\"string\"}\n",
        "print(\"Prediction:\")\n",
        "print(learn.predict(Sentence))"
      ],
      "execution_count": null,
      "outputs": [
        {
          "output_type": "stream",
          "text": [
            "Prediction:\n",
            "(Category entertainment, tensor(0), tensor([0.7706, 0.0031, 0.2262]))\n"
          ],
          "name": "stdout"
        }
      ]
    },
    {
      "cell_type": "markdown",
      "metadata": {
        "id": "UsWs8sQGf0zX"
      },
      "source": [
        "# Accuracy Score, Confusion Matrix & Classification Matrix"
      ]
    },
    {
      "cell_type": "code",
      "metadata": {
        "id": "Nmt1o_wff8is"
      },
      "source": [
        "from sklearn.metrics import confusion_matrix \n",
        "from sklearn.metrics import accuracy_score \n",
        "from sklearn.metrics import classification_report \n",
        "import seaborn as sns"
      ],
      "execution_count": null,
      "outputs": []
    },
    {
      "cell_type": "code",
      "metadata": {
        "id": "yQm0yYLZcHJA"
      },
      "source": [
        "x_train = train_df['headline'].values\n",
        "y_train = train_df['label'].values\n",
        "x_test = valid_df['headline'].values\n",
        "y_test = valid_df['label'].values"
      ],
      "execution_count": null,
      "outputs": []
    },
    {
      "cell_type": "code",
      "metadata": {
        "id": "_gEACuEPdHei"
      },
      "source": [
        "predictions = []\n",
        "for i in range (0,len(x_test)):\n",
        "  prediction = learn.predict(x_test[i])\n",
        "  predictions.append(str(prediction[0]))"
      ],
      "execution_count": null,
      "outputs": []
    },
    {
      "cell_type": "markdown",
      "metadata": {
        "id": "9XxldPgatvpw"
      },
      "source": [
        "## Accuracy Score"
      ]
    },
    {
      "cell_type": "code",
      "metadata": {
        "id": "pC5j2kdyt3OQ",
        "outputId": "55fde3d2-1516-4f21-a009-a2ea4af768a6",
        "colab": {
          "base_uri": "https://localhost:8080/",
          "height": 35
        }
      },
      "source": [
        "print ('Accuracy Score:',accuracy_score(y_test, predictions))"
      ],
      "execution_count": null,
      "outputs": [
        {
          "output_type": "stream",
          "text": [
            "Accuracy Score: 0.9359239355105415\n"
          ],
          "name": "stdout"
        }
      ]
    },
    {
      "cell_type": "markdown",
      "metadata": {
        "id": "w606Dscstzr6"
      },
      "source": [
        "## Confusion Matrix"
      ]
    },
    {
      "cell_type": "code",
      "metadata": {
        "id": "sL7qDdt8fuya",
        "outputId": "57985984-5236-464e-a794-2f32bfde95f5",
        "colab": {
          "base_uri": "https://localhost:8080/",
          "height": 280
        }
      },
      "source": [
        "cf_matrix = confusion_matrix(y_test, predictions, labels=['sports','state','entertainment'])\n",
        "sns.heatmap(cf_matrix, annot=True, fmt='', xticklabels=['Sports','State','Entertainment'], yticklabels=['Sports','State','Entertainment'])\n",
        "plt.ylabel('Actual')\n",
        "plt.xlabel('Predicted')\n",
        "plt.show()"
      ],
      "execution_count": null,
      "outputs": [
        {
          "output_type": "display_data",
          "data": {
            "image/png": "[encoded data removed]",
            "text/plain": [
              "<Figure size 432x288 with 2 Axes>"
            ]
          },
          "metadata": {
            "tags": [],
            "needs_background": "light"
          }
        }
      ]
    },
    {
      "cell_type": "markdown",
      "metadata": {
        "id": "nldhuOPhuMmz"
      },
      "source": [
        "## Classification Report"
      ]
    },
    {
      "cell_type": "code",
      "metadata": {
        "id": "ODxqusAzuPjr",
        "outputId": "b18b7c59-9d71-40d9-e088-2007e2f83a27",
        "colab": {
          "base_uri": "https://localhost:8080/",
          "height": 215
        }
      },
      "source": [
        "print('Classification Report:')\n",
        "print (classification_report(y_test, predictions))"
      ],
      "execution_count": null,
      "outputs": [
        {
          "output_type": "stream",
          "text": [
            "Classification Report:\n",
            "               precision    recall  f1-score   support\n",
            "\n",
            "entertainment       0.90      0.91      0.90       679\n",
            "       sports       0.89      0.85      0.87       228\n",
            "        state       0.96      0.96      0.96      1512\n",
            "\n",
            "     accuracy                           0.94      2419\n",
            "    macro avg       0.91      0.91      0.91      2419\n",
            " weighted avg       0.94      0.94      0.94      2419\n",
            "\n"
          ],
          "name": "stdout"
        }
      ]
    }
  ]
}